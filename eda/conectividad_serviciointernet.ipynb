{
 "cells": [
  {
   "attachments": {},
   "cell_type": "markdown",
   "metadata": {},
   "source": [
    "## Conectividad de Servicio de Internet"
   ]
  },
  {
   "cell_type": "markdown",
   "metadata": {},
   "source": [
    "### Índice\n",
    "1. [Descripción de los datos ](#id1)\n",
    "2. [Outliers](#id2)\n",
    "3. [Distribución de los datos](#id3)\n",
    "4. [Métricas y visualización de datos](#id4)\n",
    "5. [Conclusión](#id5)"
   ]
  },
  {
   "cell_type": "markdown",
   "metadata": {},
   "source": [
    "### 1. Descripción de los datos<a name=\"id1\"></a>\n",
    "Se describen la cantidad de registros y columnas con sus tipos de datos, ocupación en memoria y una estadística descriptiva de los mismos: cúal es el promedio, el desvío estandar, los cuartiles, todos medidas de tendencia central."
   ]
  },
  {
   "cell_type": "code",
   "execution_count": 1,
   "metadata": {},
   "outputs": [],
   "source": [
    "# se importa las librerias necesarias\n",
    "import pandas as pd\n",
    "import matplotlib.pyplot as plt "
   ]
  },
  {
   "cell_type": "code",
   "execution_count": 2,
   "metadata": {},
   "outputs": [],
   "source": [
    "df = pd.read_csv('../datasets/ConectividadalserviciodeInternet.csv', delimiter=';')"
   ]
  },
  {
   "cell_type": "code",
   "execution_count": 3,
   "metadata": {},
   "outputs": [
    {
     "data": {
      "text/html": [
       "<div>\n",
       "<style scoped>\n",
       "    .dataframe tbody tr th:only-of-type {\n",
       "        vertical-align: middle;\n",
       "    }\n",
       "\n",
       "    .dataframe tbody tr th {\n",
       "        vertical-align: top;\n",
       "    }\n",
       "\n",
       "    .dataframe thead th {\n",
       "        text-align: right;\n",
       "    }\n",
       "</style>\n",
       "<table border=\"1\" class=\"dataframe\">\n",
       "  <thead>\n",
       "    <tr style=\"text-align: right;\">\n",
       "      <th></th>\n",
       "      <th>Provincia</th>\n",
       "      <th>Partido</th>\n",
       "      <th>Localidad</th>\n",
       "      <th>Poblacion</th>\n",
       "      <th>ADSL</th>\n",
       "      <th>CABLEMODEM</th>\n",
       "      <th>DIALUP</th>\n",
       "      <th>FIBRAOPTICA</th>\n",
       "      <th>SATELITAL</th>\n",
       "      <th>WIRELESS</th>\n",
       "      <th>TELEFONIAFIJA</th>\n",
       "      <th>3G</th>\n",
       "      <th>4G</th>\n",
       "      <th>link</th>\n",
       "      <th>Latitud</th>\n",
       "      <th>Longitud</th>\n",
       "    </tr>\n",
       "  </thead>\n",
       "  <tbody>\n",
       "    <tr>\n",
       "      <th>0</th>\n",
       "      <td>BUENOS AIRES</td>\n",
       "      <td>Bahía Blanca</td>\n",
       "      <td>Villa Bordeau</td>\n",
       "      <td>0</td>\n",
       "      <td>--</td>\n",
       "      <td>--</td>\n",
       "      <td>--</td>\n",
       "      <td>--</td>\n",
       "      <td>--</td>\n",
       "      <td>--</td>\n",
       "      <td>--</td>\n",
       "      <td>SI</td>\n",
       "      <td>SI</td>\n",
       "      <td>6056020.0</td>\n",
       "      <td>-38,6472605094596</td>\n",
       "      <td>-62,3200223419024</td>\n",
       "    </tr>\n",
       "    <tr>\n",
       "      <th>1</th>\n",
       "      <td>BUENOS AIRES</td>\n",
       "      <td>Bahía Blanca</td>\n",
       "      <td>Villa Espora</td>\n",
       "      <td>0</td>\n",
       "      <td>--</td>\n",
       "      <td>--</td>\n",
       "      <td>--</td>\n",
       "      <td>--</td>\n",
       "      <td>--</td>\n",
       "      <td>--</td>\n",
       "      <td>--</td>\n",
       "      <td>--</td>\n",
       "      <td>--</td>\n",
       "      <td>6056020.0</td>\n",
       "      <td>-38,7765069529222</td>\n",
       "      <td>-62,1851833537179</td>\n",
       "    </tr>\n",
       "    <tr>\n",
       "      <th>2</th>\n",
       "      <td>BUENOS AIRES</td>\n",
       "      <td>Balcarce</td>\n",
       "      <td>Balcarce</td>\n",
       "      <td>38376</td>\n",
       "      <td>SI</td>\n",
       "      <td>SI</td>\n",
       "      <td>SI</td>\n",
       "      <td>SI</td>\n",
       "      <td>--</td>\n",
       "      <td>SI</td>\n",
       "      <td>SI</td>\n",
       "      <td>SI</td>\n",
       "      <td>SI</td>\n",
       "      <td>6063010.0</td>\n",
       "      <td>-37,8482779294345</td>\n",
       "      <td>-58,2551665841248</td>\n",
       "    </tr>\n",
       "    <tr>\n",
       "      <th>3</th>\n",
       "      <td>BUENOS AIRES</td>\n",
       "      <td>Balcarce</td>\n",
       "      <td>Los Pinos</td>\n",
       "      <td>337</td>\n",
       "      <td>--</td>\n",
       "      <td>--</td>\n",
       "      <td>--</td>\n",
       "      <td>--</td>\n",
       "      <td>--</td>\n",
       "      <td>SI</td>\n",
       "      <td>SI</td>\n",
       "      <td>--</td>\n",
       "      <td>--</td>\n",
       "      <td>6063020.0</td>\n",
       "      <td>-37,9412057603</td>\n",
       "      <td>-58,3225920150442</td>\n",
       "    </tr>\n",
       "    <tr>\n",
       "      <th>4</th>\n",
       "      <td>BUENOS AIRES</td>\n",
       "      <td>Balcarce</td>\n",
       "      <td>Napaleofú</td>\n",
       "      <td>374</td>\n",
       "      <td>--</td>\n",
       "      <td>--</td>\n",
       "      <td>--</td>\n",
       "      <td>SI</td>\n",
       "      <td>--</td>\n",
       "      <td>SI</td>\n",
       "      <td>SI</td>\n",
       "      <td>SI</td>\n",
       "      <td>SI</td>\n",
       "      <td>6063030.0</td>\n",
       "      <td>-37,6254980210026</td>\n",
       "      <td>-58,7461862359423</td>\n",
       "    </tr>\n",
       "  </tbody>\n",
       "</table>\n",
       "</div>"
      ],
      "text/plain": [
       "      Provincia       Partido      Localidad  Poblacion ADSL CABLEMODEM  \\\n",
       "0  BUENOS AIRES  Bahía Blanca  Villa Bordeau          0   --         --   \n",
       "1  BUENOS AIRES  Bahía Blanca   Villa Espora          0   --         --   \n",
       "2  BUENOS AIRES      Balcarce       Balcarce      38376   SI         SI   \n",
       "3  BUENOS AIRES      Balcarce      Los Pinos        337   --         --   \n",
       "4  BUENOS AIRES      Balcarce      Napaleofú        374   --         --   \n",
       "\n",
       "  DIALUP FIBRAOPTICA SATELITAL WIRELESS TELEFONIAFIJA  3G  4G       link  \\\n",
       "0     --          --        --       --            --  SI  SI  6056020.0   \n",
       "1     --          --        --       --            --  --  --  6056020.0   \n",
       "2     SI          SI        --       SI            SI  SI  SI  6063010.0   \n",
       "3     --          --        --       SI            SI  --  --  6063020.0   \n",
       "4     --          SI        --       SI            SI  SI  SI  6063030.0   \n",
       "\n",
       "             Latitud           Longitud  \n",
       "0  -38,6472605094596  -62,3200223419024  \n",
       "1  -38,7765069529222  -62,1851833537179  \n",
       "2  -37,8482779294345  -58,2551665841248  \n",
       "3     -37,9412057603  -58,3225920150442  \n",
       "4  -37,6254980210026  -58,7461862359423  "
      ]
     },
     "execution_count": 3,
     "metadata": {},
     "output_type": "execute_result"
    }
   ],
   "source": [
    "df.head()"
   ]
  },
  {
   "cell_type": "code",
   "execution_count": 4,
   "metadata": {},
   "outputs": [
    {
     "data": {
      "text/plain": [
       "4312"
      ]
     },
     "execution_count": 4,
     "metadata": {},
     "output_type": "execute_result"
    }
   ],
   "source": [
    "# se averigua cúantos registros hay: 4312 registros\n",
    "df.shape[0]"
   ]
  },
  {
   "cell_type": "code",
   "execution_count": 5,
   "metadata": {},
   "outputs": [
    {
     "name": "stdout",
     "output_type": "stream",
     "text": [
      "<class 'pandas.core.frame.DataFrame'>\n",
      "RangeIndex: 4312 entries, 0 to 4311\n",
      "Data columns (total 16 columns):\n",
      " #   Column         Non-Null Count  Dtype  \n",
      "---  ------         --------------  -----  \n",
      " 0   Provincia      4312 non-null   object \n",
      " 1   Partido        4312 non-null   object \n",
      " 2   Localidad      4312 non-null   object \n",
      " 3   Poblacion      4312 non-null   int64  \n",
      " 4   ADSL           4312 non-null   object \n",
      " 5   CABLEMODEM     4312 non-null   object \n",
      " 6   DIALUP         4312 non-null   object \n",
      " 7   FIBRAOPTICA    4312 non-null   object \n",
      " 8   SATELITAL      4312 non-null   object \n",
      " 9   WIRELESS       4312 non-null   object \n",
      " 10  TELEFONIAFIJA  4312 non-null   object \n",
      " 11  3G             4312 non-null   object \n",
      " 12  4G             4312 non-null   object \n",
      " 13  link           4300 non-null   float64\n",
      " 14  Latitud        4312 non-null   object \n",
      " 15  Longitud       4312 non-null   object \n",
      "dtypes: float64(1), int64(1), object(14)\n",
      "memory usage: 539.1+ KB\n"
     ]
    }
   ],
   "source": [
    "# Se observa por columna: la cantidad de registro, el tipo de dato y si tiene valores nulos o no. \n",
    "# También se observa el uso de memoria.\n",
    "df.info()"
   ]
  },
  {
   "cell_type": "code",
   "execution_count": 6,
   "metadata": {},
   "outputs": [],
   "source": [
    "# Se pasan algunas variables a categóricas\n",
    "df['Provincia']   = df['Provincia'].astype('category')\n",
    "df['Partido']     = df['Partido'].astype('category')\n",
    "df['Localidad']   = df['Localidad'].astype('category')\n"
   ]
  },
  {
   "cell_type": "code",
   "execution_count": 8,
   "metadata": {},
   "outputs": [
    {
     "name": "stdout",
     "output_type": "stream",
     "text": [
      "<class 'pandas.core.frame.DataFrame'>\n",
      "RangeIndex: 4312 entries, 0 to 4311\n",
      "Data columns (total 16 columns):\n",
      " #   Column         Non-Null Count  Dtype   \n",
      "---  ------         --------------  -----   \n",
      " 0   Provincia      4312 non-null   category\n",
      " 1   Partido        4312 non-null   category\n",
      " 2   Localidad      4312 non-null   category\n",
      " 3   Poblacion      4312 non-null   int64   \n",
      " 4   ADSL           4312 non-null   object  \n",
      " 5   CABLEMODEM     4312 non-null   object  \n",
      " 6   DIALUP         4312 non-null   object  \n",
      " 7   FIBRAOPTICA    4312 non-null   object  \n",
      " 8   SATELITAL      4312 non-null   object  \n",
      " 9   WIRELESS       4312 non-null   object  \n",
      " 10  TELEFONIAFIJA  4312 non-null   object  \n",
      " 11  3G             4312 non-null   object  \n",
      " 12  4G             4312 non-null   object  \n",
      " 13  link           4300 non-null   float64 \n",
      " 14  Latitud        4312 non-null   object  \n",
      " 15  Longitud       4312 non-null   object  \n",
      "dtypes: category(3), float64(1), int64(1), object(11)\n",
      "memory usage: 639.1+ KB\n"
     ]
    }
   ],
   "source": [
    "df.info()"
   ]
  },
  {
   "cell_type": "code",
   "execution_count": 9,
   "metadata": {},
   "outputs": [
    {
     "data": {
      "text/html": [
       "<div>\n",
       "<style scoped>\n",
       "    .dataframe tbody tr th:only-of-type {\n",
       "        vertical-align: middle;\n",
       "    }\n",
       "\n",
       "    .dataframe tbody tr th {\n",
       "        vertical-align: top;\n",
       "    }\n",
       "\n",
       "    .dataframe thead th {\n",
       "        text-align: right;\n",
       "    }\n",
       "</style>\n",
       "<table border=\"1\" class=\"dataframe\">\n",
       "  <thead>\n",
       "    <tr style=\"text-align: right;\">\n",
       "      <th></th>\n",
       "      <th>Poblacion</th>\n",
       "      <th>link</th>\n",
       "    </tr>\n",
       "  </thead>\n",
       "  <tbody>\n",
       "    <tr>\n",
       "      <th>count</th>\n",
       "      <td>4.312000e+03</td>\n",
       "      <td>4.300000e+03</td>\n",
       "    </tr>\n",
       "    <tr>\n",
       "      <th>mean</th>\n",
       "      <td>8.693093e+03</td>\n",
       "      <td>3.909872e+07</td>\n",
       "    </tr>\n",
       "    <tr>\n",
       "      <th>std</th>\n",
       "      <td>3.821544e+04</td>\n",
       "      <td>2.939305e+07</td>\n",
       "    </tr>\n",
       "    <tr>\n",
       "      <th>min</th>\n",
       "      <td>0.000000e+00</td>\n",
       "      <td>2.000010e+06</td>\n",
       "    </tr>\n",
       "    <tr>\n",
       "      <th>25%</th>\n",
       "      <td>1.160000e+02</td>\n",
       "      <td>1.009104e+07</td>\n",
       "    </tr>\n",
       "    <tr>\n",
       "      <th>50%</th>\n",
       "      <td>5.755000e+02</td>\n",
       "      <td>3.401053e+07</td>\n",
       "    </tr>\n",
       "    <tr>\n",
       "      <th>75%</th>\n",
       "      <td>3.202000e+03</td>\n",
       "      <td>6.612602e+07</td>\n",
       "    </tr>\n",
       "    <tr>\n",
       "      <th>max</th>\n",
       "      <td>1.317298e+06</td>\n",
       "      <td>9.401402e+07</td>\n",
       "    </tr>\n",
       "  </tbody>\n",
       "</table>\n",
       "</div>"
      ],
      "text/plain": [
       "          Poblacion          link\n",
       "count  4.312000e+03  4.300000e+03\n",
       "mean   8.693093e+03  3.909872e+07\n",
       "std    3.821544e+04  2.939305e+07\n",
       "min    0.000000e+00  2.000010e+06\n",
       "25%    1.160000e+02  1.009104e+07\n",
       "50%    5.755000e+02  3.401053e+07\n",
       "75%    3.202000e+03  6.612602e+07\n",
       "max    1.317298e+06  9.401402e+07"
      ]
     },
     "execution_count": 9,
     "metadata": {},
     "output_type": "execute_result"
    }
   ],
   "source": [
    "df.describe()\n",
    "# Se puede observar que no hay valores nulos o en cero asimismo también antes se visualiza que no hay valores nulos."
   ]
  },
  {
   "cell_type": "markdown",
   "metadata": {},
   "source": [
    "Como primer observación  vemos que en población presenta un valor minimo de 0. Entonces signica que hay registros con valor 0. ¿cuáles?"
   ]
  },
  {
   "cell_type": "code",
   "execution_count": 10,
   "metadata": {},
   "outputs": [
    {
     "name": "stdout",
     "output_type": "stream",
     "text": [
      "         Provincia            Partido                Localidad  Poblacion  \\\n",
      "0     BUENOS AIRES       Bahía Blanca            Villa Bordeau          0   \n",
      "1     BUENOS AIRES       Bahía Blanca             Villa Espora          0   \n",
      "16    BUENOS AIRES  General Las Heras                   Lozano          0   \n",
      "19    BUENOS AIRES    General Lavalle  Chacras de San Clemente          0   \n",
      "50    BUENOS AIRES             Tandil           Desvío Aguirre          0   \n",
      "...            ...                ...                      ...        ...   \n",
      "4295        CHUBUT          Escalante      Barrio Restinga Ali          0   \n",
      "4296        CHUBUT          Escalante    Barrio Rodriguez Peña          0   \n",
      "4297        CHUBUT          Escalante          Barrio Saavedra          0   \n",
      "4298        CHUBUT          Escalante         Barrio Sarmiento          0   \n",
      "4299        CHUBUT          Escalante    Barrio Villa S.U.P.E.          0   \n",
      "\n",
      "     ADSL CABLEMODEM DIALUP FIBRAOPTICA SATELITAL WIRELESS TELEFONIAFIJA  3G  \\\n",
      "0      --         --     --          --        --       --            --  SI   \n",
      "1      --         --     --          --        --       --            --  --   \n",
      "16     --         --     --          --        SI       --            --  --   \n",
      "19     --         --     --          --        --       SI            --  --   \n",
      "50     --         --     --          SI        --       SI            --  SI   \n",
      "...   ...        ...    ...         ...       ...      ...           ...  ..   \n",
      "4295   --         --     --          --        --       --            --  SI   \n",
      "4296   --         --     --          --        --       --            --  --   \n",
      "4297   --         --     --          --        --       --            --  SI   \n",
      "4298   --         --     --          --        --       --            --  SI   \n",
      "4299   --         --     --          --        --       --            --  SI   \n",
      "\n",
      "      4G        link            Latitud           Longitud  \n",
      "0     SI   6056020.0  -38,6472605094596  -62,3200223419024  \n",
      "1     --   6056020.0  -38,7765069529222  -62,1851833537179  \n",
      "16    --   6329020.0  -34,8542796259808  -59,0533451317779  \n",
      "19    --   6336020.0  -36,4080851872455  -56,9433553335054  \n",
      "50    SI   6791050.0            -37,.35               -59,  \n",
      "...   ..         ...                ...                ...  \n",
      "4295  SI  26021020.0  -45,7933095274399  -67,4097861221166  \n",
      "4296  --  26021020.0  -45,8042084863804  -67,4855016639952  \n",
      "4297  SI  26021020.0  -45,8455307615478  -67,5145852993993  \n",
      "4298  --  26021020.0  -45,8191333517328   -67,502587140919  \n",
      "4299  SI  26021020.0  -45,8367380263826  -67,5021112026914  \n",
      "\n",
      "[546 rows x 16 columns]\n"
     ]
    }
   ],
   "source": [
    "print(df[df['Poblacion'] == 0])"
   ]
  },
  {
   "cell_type": "markdown",
   "metadata": {},
   "source": [
    "Se puede deducir que en estas provincias se tiene acceso a internet en algunas tecnologías pero que no tienen demanda.\n",
    "Por ejemplo para  Villa Bordeau, Bahía Blanca no tienen demanda (Poblacion = 0) pero tienen tecnologia 3G.\n",
    "Es decir se puede aprovechar esta **oportunidad de crecimiento** ya que hay algunas tecnologías dispuestas para **potenciar la demanda del servicio a internet**. "
   ]
  },
  {
   "cell_type": "markdown",
   "metadata": {},
   "source": [
    "Ahora bien veamos si hay registros duplicados con igual nombre de Provincia, Partido y Localidad, analizar cada caso si es posible."
   ]
  },
  {
   "cell_type": "code",
   "execution_count": 12,
   "metadata": {},
   "outputs": [
    {
     "name": "stdout",
     "output_type": "stream",
     "text": [
      "6 registros\n",
      "         Provincia       Partido        Localidad  Poblacion ADSL CABLEMODEM  \\\n",
      "243     ENTRE RIOS         Colón           Hocker          0   --         --   \n",
      "651        TUCUMAN     Cruz Alta         Lastenia          0   --         --   \n",
      "1633     RIO NEGRO  General Roca  Barrio La Costa         94   --         --   \n",
      "2386    ENTRE RIOS        Paraná       El Ramblón          0   --         --   \n",
      "3366  BUENOS AIRES      La Plata     ruta del sol       2312   SI         --   \n",
      "4122      LA RIOJA     Sanagasta  Villa Sanagasta          0   --         SI   \n",
      "\n",
      "     DIALUP FIBRAOPTICA SATELITAL WIRELESS TELEFONIAFIJA  3G  4G        link  \\\n",
      "243      --          --        --       --            --  --  SI  30008100.0   \n",
      "651      --          --        --       --            --  SI  SI  90014090.0   \n",
      "1633     --          --        --       SI            --  --  --  62042200.0   \n",
      "2386     --          --        --       SI            --  --  SI  30084095.0   \n",
      "3366     --          --        --       --            --  SI  SI   6441050.0   \n",
      "4122     --          SI        SI       SI            SI  SI  SI  46126010.0   \n",
      "\n",
      "                Latitud           Longitud  \n",
      "243   -32,0874958453901  -58,3417058444451  \n",
      "651   -26,8498779490703  -65,1293137289629  \n",
      "1633  -39,0753070627553  -67,5392261916358  \n",
      "2386  -31,8480473768248  -60,0927487719843  \n",
      "3366  -34,9437333541431  -58,1732652389706  \n",
      "4122  -29,3064491456943  -67,0414097362521  \n"
     ]
    }
   ],
   "source": [
    "print(len(df[df[['Provincia','Partido','Localidad']].duplicated()]), 'registros')\n",
    "print(df[df[['Provincia','Partido','Localidad']].duplicated()])"
   ]
  },
  {
   "cell_type": "markdown",
   "metadata": {},
   "source": [
    "Hay 6 registros duplicados, se ve cada caso:"
   ]
  },
  {
   "cell_type": "code",
   "execution_count": 13,
   "metadata": {},
   "outputs": [
    {
     "name": "stdout",
     "output_type": "stream",
     "text": [
      "      Provincia Partido Localidad  Poblacion ADSL CABLEMODEM DIALUP  \\\n",
      "200  ENTRE RIOS   Colón    Hocker         98   --         --     --   \n",
      "243  ENTRE RIOS   Colón    Hocker          0   --         --     --   \n",
      "\n",
      "    FIBRAOPTICA SATELITAL WIRELESS TELEFONIAFIJA  3G  4G        link  \\\n",
      "200          --        --       SI            --  --  SI  30008100.0   \n",
      "243          --        --       --            --  --  SI  30008100.0   \n",
      "\n",
      "               Latitud           Longitud  \n",
      "200  -32,0874958453901  -58,3417058444451  \n",
      "243  -32,0874958453901  -58,3417058444451  \n"
     ]
    }
   ],
   "source": [
    "# Se tomar los primeros registros y compara los resultados;\n",
    "print(df[(df['Provincia'] == 'ENTRE RIOS') & (df['Partido'] == 'Colón') & (df['Localidad'] == 'Hocker')])"
   ]
  },
  {
   "cell_type": "markdown",
   "metadata": {},
   "source": [
    "Para ENTRE RIOS, Colón, Hocker, la diferencia radica en el valor de la población y que cuando población = 98 acceden por Wireless y 4G. Cuando la población es 0 solo 4G. Se elimina el registro de población = 0. Tomando el otro registro como el correcto."
   ]
  },
  {
   "cell_type": "code",
   "execution_count": 14,
   "metadata": {},
   "outputs": [],
   "source": [
    "df.drop([243], axis=0, inplace=True)"
   ]
  },
  {
   "cell_type": "code",
   "execution_count": 15,
   "metadata": {},
   "outputs": [
    {
     "name": "stdout",
     "output_type": "stream",
     "text": [
      "    Provincia    Partido Localidad  Poblacion ADSL CABLEMODEM DIALUP  \\\n",
      "650   TUCUMAN  Cruz Alta  Lastenia          0   --         --     --   \n",
      "651   TUCUMAN  Cruz Alta  Lastenia          0   --         --     --   \n",
      "\n",
      "    FIBRAOPTICA SATELITAL WIRELESS TELEFONIAFIJA  3G  4G        link  \\\n",
      "650          --        --       --            --  SI  SI  90014090.0   \n",
      "651          --        --       --            --  SI  SI  90014090.0   \n",
      "\n",
      "               Latitud           Longitud  \n",
      "650  -26,8621611908602  -65,1625825810305  \n",
      "651  -26,8498779490703  -65,1293137289629  \n"
     ]
    }
   ],
   "source": [
    "# TUCUMAN     Cruz Alta         Lastenia\n",
    "print(df[(df['Provincia'] == 'TUCUMAN') & (df['Partido'] == 'Cruz Alta') & (df['Localidad'] == 'Lastenia')])"
   ]
  },
  {
   "cell_type": "markdown",
   "metadata": {},
   "source": [
    "En el caso de Lastenia, Cruz Alta, Provincia de TUCUMAN los registros son iguales, se elimina el de idex 651.             "
   ]
  },
  {
   "cell_type": "code",
   "execution_count": 16,
   "metadata": {},
   "outputs": [],
   "source": [
    "df.drop([651], axis=0, inplace=True)"
   ]
  },
  {
   "cell_type": "code",
   "execution_count": 17,
   "metadata": {},
   "outputs": [
    {
     "name": "stdout",
     "output_type": "stream",
     "text": [
      "      Provincia       Partido        Localidad  Poblacion ADSL CABLEMODEM  \\\n",
      "1632  RIO NEGRO  General Roca  Barrio La Costa         94   --         --   \n",
      "1633  RIO NEGRO  General Roca  Barrio La Costa         94   --         --   \n",
      "\n",
      "     DIALUP FIBRAOPTICA SATELITAL WIRELESS TELEFONIAFIJA  3G  4G        link  \\\n",
      "1632     --          --        --       --            --  --  --  62042200.0   \n",
      "1633     --          --        --       SI            --  --  --  62042200.0   \n",
      "\n",
      "                Latitud           Longitud  \n",
      "1632  -39,0753070627553  -67,5392261916358  \n",
      "1633  -39,0753070627553  -67,5392261916358  \n"
     ]
    }
   ],
   "source": [
    "# RIO NEGRO  General Roca  Barrio La Costa\n",
    "print(df[(df['Provincia'] == 'RIO NEGRO') & (df['Partido'] == 'General Roca') & (df['Localidad'] == 'Barrio La Costa')])"
   ]
  },
  {
   "cell_type": "markdown",
   "metadata": {},
   "source": [
    "En este caso ambos registros tienen los mismos valores a excepción que en un registro, WIRELESS esta en *--* y en el otro, con valor *SI*. Se toma como válido este último registro y se elimina el de index 1632."
   ]
  },
  {
   "cell_type": "code",
   "execution_count": 18,
   "metadata": {},
   "outputs": [],
   "source": [
    "df.drop([1632], axis=0, inplace=True)"
   ]
  },
  {
   "cell_type": "code",
   "execution_count": 19,
   "metadata": {},
   "outputs": [
    {
     "name": "stdout",
     "output_type": "stream",
     "text": [
      "       Provincia Partido   Localidad  Poblacion ADSL CABLEMODEM DIALUP  \\\n",
      "2385  ENTRE RIOS  Paraná  El Ramblón          0   --         --     --   \n",
      "2386  ENTRE RIOS  Paraná  El Ramblón          0   --         --     --   \n",
      "\n",
      "     FIBRAOPTICA SATELITAL WIRELESS TELEFONIAFIJA  3G  4G        link  \\\n",
      "2385          --        --       --            --  --  SI  30084095.0   \n",
      "2386          --        --       SI            --  --  SI  30084095.0   \n",
      "\n",
      "                Latitud           Longitud  \n",
      "2385  -31,8480473768248  -60,0927487719843  \n",
      "2386  -31,8480473768248  -60,0927487719843  \n"
     ]
    }
   ],
   "source": [
    "# ENTRE RIOS        Paraná       El Ramblón\n",
    "print(df[(df['Provincia'] == 'ENTRE RIOS') & (df['Partido'] == 'Paraná') & (df['Localidad'] == 'El Ramblón')])"
   ]
  },
  {
   "cell_type": "markdown",
   "metadata": {},
   "source": [
    "Mismo caso que el anterior, se elimina el index 2385 para ENTRE RIOS, Paraná, El Ramblón."
   ]
  },
  {
   "cell_type": "code",
   "execution_count": 20,
   "metadata": {},
   "outputs": [],
   "source": [
    "df.drop([2385], axis=0, inplace=True)"
   ]
  },
  {
   "cell_type": "code",
   "execution_count": 21,
   "metadata": {},
   "outputs": [
    {
     "name": "stdout",
     "output_type": "stream",
     "text": [
      "         Provincia   Partido     Localidad  Poblacion ADSL CABLEMODEM DIALUP  \\\n",
      "3365  BUENOS AIRES  La Plata  ruta del sol          0   SI         --     --   \n",
      "3366  BUENOS AIRES  La Plata  ruta del sol       2312   SI         --     --   \n",
      "\n",
      "     FIBRAOPTICA SATELITAL WIRELESS TELEFONIAFIJA  3G  4G       link  \\\n",
      "3365          --        --       --            --  SI  SI  6441050.0   \n",
      "3366          --        --       --            --  SI  SI  6441050.0   \n",
      "\n",
      "                Latitud           Longitud  \n",
      "3365  -34,9437333541431  -58,1732652389706  \n",
      "3366  -34,9437333541431  -58,1732652389706  \n"
     ]
    }
   ],
   "source": [
    "# BUENOS AIRES      La Plata     ruta del sol\n",
    "print(df[(df['Provincia'] == 'BUENOS AIRES') & (df['Partido'] == 'La Plata') & (df['Localidad'] == 'ruta del sol')])"
   ]
  },
  {
   "cell_type": "markdown",
   "metadata": {},
   "source": [
    "Para Ruta del Sol, La Plata, Buenos Aires, los registros duplicados se diferencian en su campo Poblacion. Se elije el registro que tiene Poblacion = 2312, eliminando el de index 3365."
   ]
  },
  {
   "cell_type": "code",
   "execution_count": 22,
   "metadata": {},
   "outputs": [],
   "source": [
    "df.drop([3365], axis=0, inplace=True)"
   ]
  },
  {
   "cell_type": "code",
   "execution_count": 23,
   "metadata": {},
   "outputs": [
    {
     "name": "stdout",
     "output_type": "stream",
     "text": [
      "     Provincia    Partido        Localidad  Poblacion ADSL CABLEMODEM DIALUP  \\\n",
      "4121  LA RIOJA  Sanagasta  Villa Sanagasta       2275   --         --     --   \n",
      "4122  LA RIOJA  Sanagasta  Villa Sanagasta          0   --         SI     --   \n",
      "\n",
      "     FIBRAOPTICA SATELITAL WIRELESS TELEFONIAFIJA  3G  4G        link  \\\n",
      "4121          --        --       --            --  SI  SI  46126010.0   \n",
      "4122          SI        SI       SI            SI  SI  SI  46126010.0   \n",
      "\n",
      "                Latitud           Longitud  \n",
      "4121  -29,3064491456943  -67,0414097362521  \n",
      "4122  -29,3064491456943  -67,0414097362521  \n"
     ]
    }
   ],
   "source": [
    "# LA RIOJA     Sanagasta  Villa Sanagasta\n",
    "print(df[(df['Provincia'] == 'LA RIOJA') & (df['Partido'] == 'Sanagasta') & (df['Localidad'] == 'Villa Sanagasta')])"
   ]
  },
  {
   "cell_type": "markdown",
   "metadata": {},
   "source": [
    "Este último registro, no se elimina, se deduce que de una población de 2275, los accesos son por 3G Y 4G. Pero aparte del acceso movil, tenemos otras tecnologias como fibra \n",
    "optica, satelital, wireless y pot telefonia fija."
   ]
  },
  {
   "cell_type": "markdown",
   "metadata": {},
   "source": [
    "### 2. Outliers<a name=\"id2\"></a>\n",
    "Detección de valores atípicos."
   ]
  },
  {
   "cell_type": "code",
   "execution_count": 24,
   "metadata": {},
   "outputs": [
    {
     "data": {
      "image/png": "[encoded data removed]",
      "text/plain": [
       "<Figure size 640x480 with 1 Axes>"
      ]
     },
     "metadata": {},
     "output_type": "display_data"
    }
   ],
   "source": [
    "# Se averigua datos outliers para las variables cualitativas, se crea boxplot para las columnas de interés.\n",
    "\n",
    "columnas = ['Poblacion', 'link']\n",
    "\n",
    "df[columnas].boxplot()\n",
    "\n",
    "plt.xlabel('Categorías')\n",
    "plt.ylabel('Valores')\n",
    "plt.title('Boxplot de las categorías')\n",
    "\n",
    "plt.show()"
   ]
  },
  {
   "cell_type": "markdown",
   "metadata": {},
   "source": [
    "Con el gráfico de cajas, se puede observar valores atipicos en la columna de Población..\n",
    "Se indaga cúales son esos registros.\n",
    "\n",
    "# Metodo de la Regla de las Tres Sigmas\n",
    "mínimo = Promedio – 3 * Desviación Estándar\n",
    "máximo = Promedio + 3 * Desviación Estándar"
   ]
  },
  {
   "cell_type": "code",
   "execution_count": 25,
   "metadata": {},
   "outputs": [
    {
     "name": "stdout",
     "output_type": "stream",
     "text": [
      "-106006.26545548937\n"
     ]
    }
   ],
   "source": [
    "minimo = df['Poblacion'].mean() - 3 * df['Poblacion'].std()\n",
    "print(minimo)"
   ]
  },
  {
   "cell_type": "code",
   "execution_count": 26,
   "metadata": {},
   "outputs": [
    {
     "name": "stdout",
     "output_type": "stream",
     "text": [
      "123412.5923651713\n"
     ]
    }
   ],
   "source": [
    "maximo = df['Poblacion'].mean() + 3 * df['Poblacion'].std()\n",
    "print(maximo)"
   ]
  },
  {
   "cell_type": "code",
   "execution_count": 27,
   "metadata": {},
   "outputs": [
    {
     "name": "stdout",
     "output_type": "stream",
     "text": [
      "52 registros\n",
      "                Provincia                 Partido  \\\n",
      "48                  CHACO            San Fernando   \n",
      "134          BUENOS AIRES      General Pueyrredón   \n",
      "139                  CABA               COMUNA 05   \n",
      "140                CHUBUT               Escalante   \n",
      "210          BUENOS AIRES              San Miguel   \n",
      "216          BUENOS AIRES             San Nicolás   \n",
      "251                  CABA               COMUNA 13   \n",
      "315          BUENOS AIRES                   Merlo   \n",
      "368          BUENOS AIRES                  Moreno   \n",
      "392                  CABA               COMUNA 06   \n",
      "409                  CABA               COMUNA 14   \n",
      "418               FORMOSA                 Formosa   \n",
      "449               MENDOZA              Godoy Cruz   \n",
      "626               TUCUMAN                 Capital   \n",
      "897   SANTIAGO DEL ESTERO                 Capital   \n",
      "957              SANTA FE              La Capital   \n",
      "1020             SANTA FE                 Rosario   \n",
      "1114             SAN LUIS              La Capital   \n",
      "1738                SALTA                 Capital   \n",
      "1896             MISIONES                 Capital   \n",
      "1971              NEUQUEN             Confluencia   \n",
      "2051             LA RIOJA                 Capital   \n",
      "2129              MENDOZA              Guaymallén   \n",
      "2132              MENDOZA              Guaymallén   \n",
      "2201              MENDOZA               Las Heras   \n",
      "2335                JUJUY  Doctor Manuel Belgrano   \n",
      "2393           ENTRE RIOS                  Paraná   \n",
      "2755              CORDOBA                 Capital   \n",
      "2866                 CABA               COMUNA 07   \n",
      "2881                 CABA               COMUNA 02   \n",
      "2894                 CABA               COMUNA 08   \n",
      "2915                 CABA               COMUNA 03   \n",
      "3004           CORRIENTES                 Capital   \n",
      "3053         BUENOS AIRES                 Quilmes   \n",
      "3054         BUENOS AIRES                 Quilmes   \n",
      "3178         BUENOS AIRES             José C. Paz   \n",
      "3250         BUENOS AIRES              La Matanza   \n",
      "3251         BUENOS AIRES              La Matanza   \n",
      "3252         BUENOS AIRES              La Matanza   \n",
      "3305         BUENOS AIRES              La Matanza   \n",
      "3306         BUENOS AIRES              La Matanza   \n",
      "3307         BUENOS AIRES              La Matanza   \n",
      "3329         BUENOS AIRES      Esteban Echeverría   \n",
      "3337         BUENOS AIRES              La Matanza   \n",
      "3357         BUENOS AIRES                La Plata   \n",
      "3474         BUENOS AIRES        Florencio Varela   \n",
      "3481         BUENOS AIRES                   Lanús   \n",
      "3682              CORDOBA              Río Cuarto   \n",
      "3730           ENTRE RIOS               Concordia   \n",
      "3892            CATAMARCA                 Capital   \n",
      "4068         BUENOS AIRES         Lomas De Zamora   \n",
      "4235         BUENOS AIRES            Bahía Blanca   \n",
      "\n",
      "                                 Localidad  Poblacion ADSL CABLEMODEM DIALUP  \\\n",
      "48                             Resistencia     290723   SI         SI     SI   \n",
      "134                          Mar del Plata     560913   SI         SI     SI   \n",
      "139                                ALMAGRO     131699   SI         SI     SI   \n",
      "140                     Comodoro Rivadavia     175196   SI         SI     SI   \n",
      "210                             San Miguel     171913   SI         SI     SI   \n",
      "216             San Nicolás de los Arroyos     133602   SI         SI     SI   \n",
      "251                               BELGRANO     126831   SI         SI     SI   \n",
      "315                                  Merlo     274130   SI         SI     SI   \n",
      "368                                 Moreno     177572   SI         SI     SI   \n",
      "392                              CABALLITO     176076   SI         SI     SI   \n",
      "409                                PALERMO     225970   SI         SI     SI   \n",
      "418                                Formosa     222218   SI         SI     --   \n",
      "449                             Godoy Cruz     191299   SI         SI     SI   \n",
      "626   San Miguel de Tucumán (Est. Tucumán)     548866   SI         SI     SI   \n",
      "897                    Santiago del Estero     252192   SI         SI     SI   \n",
      "957                               Santa Fe     391164   SI         SI     SI   \n",
      "1020                               Rosario     948312   SI         SI     SI   \n",
      "1114                              San Luis     169947   SI         SI     SI   \n",
      "1738                                 Salta     520683   SI         SI     SI   \n",
      "1896                               Posadas     275028   SI         SI     --   \n",
      "1971                               Neuquén     231198   SI         SI     SI   \n",
      "2051                              La Rioja     178872   SI         SI     SI   \n",
      "2129                            Guaymallén     252618   SI         SI     SI   \n",
      "2132                          La Primavera     189067   --         --     --   \n",
      "2201                             Las Heras     189067   SI         SI     SI   \n",
      "2335    San Salvador de Jujuy (Est. Jujuy)     257970   SI         SI     --   \n",
      "2393                                Paraná     247139   SI         SI     SI   \n",
      "2755                               Córdoba    1317298   SI         SI     SI   \n",
      "2866                                FLORES     164310   SI         SI     SI   \n",
      "2881                              RECOLETA     157932   SI         SI     SI   \n",
      "2894                          VILLA LUGANO     126374   SI         SI     SI   \n",
      "2915                             BALVANERA     138926   SI         SI     SI   \n",
      "3004                            Corrientes     346334   SI         SI     SI   \n",
      "3053                               Quilmes     125373   SI         SI     SI   \n",
      "3054                         Quilmes Oeste     133980   SI         SI     SI   \n",
      "3178                            José C Paz     250301   SI         SI     SI   \n",
      "3250                        Gonzalez Catán     233988   SI         SI     SI   \n",
      "3251                 Gregorio De Laferrere     248439   SI         SI     SI   \n",
      "3252                       Isidro Casanova     192465   SI         SI     SI   \n",
      "3305                       Rafael Castillo     147069   SI         SI     SI   \n",
      "3306                           Ramos Mejía     139369   SI         SI     SI   \n",
      "3307                             San Justo     148882   SI         SI     SI   \n",
      "3329                          Monte Grande     135893   SI         SI     SI   \n",
      "3337                       Virrey Del Pino     127171   SI         SI     --   \n",
      "3357                              La Plata     207620   SI         SI     SI   \n",
      "3474                      Florencio Varela     149676   SI         SI     SI   \n",
      "3481                           Lanús Oeste     159094   --         SI     SI   \n",
      "3682                            Río Cuarto     157010   SI         SI     SI   \n",
      "3730                             Concordia     149450   SI         SI     --   \n",
      "3892   San Fernando del Valle de Catamarca     159139   SI         SI     SI   \n",
      "4068                              Banfield     233339   SI         SI     SI   \n",
      "4235                          Bahía Blanca     291327   SI         SI     SI   \n",
      "\n",
      "     FIBRAOPTICA SATELITAL WIRELESS TELEFONIAFIJA  3G  4G        link  \\\n",
      "48            SI        SI       SI            SI  SI  SI  22140060.0   \n",
      "134           SI        SI       SI            SI  SI  SI   6357110.0   \n",
      "139           SI        SI       SI            SI  SI  SI   2000010.0   \n",
      "140           SI        SI       SI            SI  SI  SI  26021030.0   \n",
      "210           SI        SI       SI            SI  SI  SI   6760010.0   \n",
      "216           SI        SI       SI            SI  SI  SI   6763050.0   \n",
      "251           SI        SI       SI            SI  SI  SI   2000010.0   \n",
      "315           SI        --       SI            SI  SI  SI   6539010.0   \n",
      "368           SI        SI       SI            SI  SI  SI   6560010.0   \n",
      "392           SI        SI       SI            SI  SI  SI   2000010.0   \n",
      "409           SI        SI       SI            SI  SI  SI   2000010.0   \n",
      "418           SI        SI       SI            SI  SI  SI  34014020.0   \n",
      "449           SI        SI       SI            SI  SI  SI  50021010.0   \n",
      "626           SI        SI       SI            SI  SI  SI  90084010.0   \n",
      "897           SI        SI       SI            SI  SI  SI  86049110.0   \n",
      "957           SI        SI       SI            SI  SI  SI  82063170.0   \n",
      "1020          SI        SI       SI            SI  SI  SI  82084270.0   \n",
      "1114          SI        SI       SI            SI  SI  SI  74056150.0   \n",
      "1738          SI        SI       SI            SI  SI  SI  66028050.0   \n",
      "1896          SI        SI       SI            SI  SI  SI  54028030.0   \n",
      "1971          SI        SI       SI            SI  SI  SI  58035070.0   \n",
      "2051          SI        SI       SI            SI  SI  SI  46014010.0   \n",
      "2129          SI        --       SI            SI  SI  SI  50028020.0   \n",
      "2132          --        --       SI            --  --  --  50028030.0   \n",
      "2201          SI        SI       SI            SI  SI  SI  50049050.0   \n",
      "2335          SI        SI       SI            SI  SI  SI  38021060.0   \n",
      "2393          SI        SI       SI            SI  SI  SI  30084160.0   \n",
      "2755          SI        SI       SI            SI  SI  SI  14014010.0   \n",
      "2866          SI        SI       SI            SI  SI  SI   2000010.0   \n",
      "2881          SI        SI       SI            SI  SI  SI   2000010.0   \n",
      "2894          SI        SI       SI            SI  SI  SI   2000010.0   \n",
      "2915          SI        SI       SI            SI  SI  SI   2000010.0   \n",
      "3004          SI        SI       SI            SI  SI  SI  18021020.0   \n",
      "3053          SI        SI       SI            SI  SI  SI   6658010.0   \n",
      "3054          SI        --       SI            SI  SI  SI   6658010.0   \n",
      "3178          SI        SI       SI            SI  SI  SI   6412010.0   \n",
      "3250          SI        SI       SI            SI  SI  SI   6427010.0   \n",
      "3251          SI        --       SI            SI  SI  SI   6427010.0   \n",
      "3252          SI        --       SI            SI  SI  SI   6427010.0   \n",
      "3305          SI        --       SI            SI  SI  SI   6427010.0   \n",
      "3306          SI        SI       SI            SI  SI  SI   6427010.0   \n",
      "3307          SI        SI       SI            SI  SI  SI   6427010.0   \n",
      "3329          SI        SI       SI            SI  SI  SI   6260010.0   \n",
      "3337          SI        --       SI            SI  SI  SI   6427010.0   \n",
      "3357          SI        SI       SI            SI  SI  SI   6441030.0   \n",
      "3474          SI        SI       SI            SI  SI  SI   6274010.0   \n",
      "3481          SI        --       SI            SI  SI  SI   6434010.0   \n",
      "3682          SI        SI       SI            SI  SI  SI  14098230.0   \n",
      "3730          SI        SI       SI            SI  SI  SI  30015060.0   \n",
      "3892          SI        SI       SI            SI  SI  SI  10049030.0   \n",
      "4068          SI        SI       --            SI  SI  SI   6490010.0   \n",
      "4235          SI        SI       SI            SI  SI  SI   6056010.0   \n",
      "\n",
      "                Latitud           Longitud  \n",
      "48    -27,4521194584549  -58,9876174408016  \n",
      "134   -38,0120914785136  -57,6064947153173  \n",
      "139   -34,6092276891202  -58,4217452253939  \n",
      "140   -45,8729846778063  -67,5430559979427  \n",
      "210   -34,5536228677773  -58,7347875195953  \n",
      "216   -33,3487082868277   -60,231333927581  \n",
      "251   -34,5548815240237  -58,4502890947349  \n",
      "315   -34,6823277014068  -58,7436432079669  \n",
      "368    -34,637632238148  -58,7921362740593  \n",
      "392   -34,6168254996915   -58,443603110353  \n",
      "409   -34,5738999836423  -58,4224364523189  \n",
      "418   -26,1828223055764  -58,1733930549121  \n",
      "449   -32,9215283150576  -68,8549231831208  \n",
      "626     -26,82900979033  -65,2105441811048  \n",
      "897   -27,8089009906807  -64,2166602117129  \n",
      "957    -31,645164805431  -60,7093147118987  \n",
      "1020  -32,9538142575214  -60,6515379354516  \n",
      "1114  -33,3023139659883  -66,3360877357358  \n",
      "1738  -24,7823766403156  -65,4141329991055  \n",
      "1896    -27,36621704276  -55,8940020980262  \n",
      "1971  -38,9492856796033  -68,0839057621977  \n",
      "2051  -29,4217827668094   -66,856675379963  \n",
      "2129  -32,8925289639529   -68,820068537927  \n",
      "2132  -32,9212115151732  -68,6797682708562  \n",
      "2201  -32,8499236875213  -68,8452567330483  \n",
      "2335  -24,1953577939088   -65,302450636841  \n",
      "2393  -31,7415676426411  -60,5284145917589  \n",
      "2755  -31,4138166206931  -64,1833384346292  \n",
      "2866  -34,6368070795903  -58,4582698515258  \n",
      "2881  -34,5858760078165  -58,3949961802632  \n",
      "2894  -34,6749935792889  -58,4761629844706  \n",
      "2915  -34,6090997738407  -58,4030625195747  \n",
      "3004  -27,4632821641043  -58,8392333481757  \n",
      "3053  -34,7241344748224  -58,2492205541766  \n",
      "3054  -34,7477989892391  -58,2999440151876  \n",
      "3178  -34,5211611965464   -58,770881112578  \n",
      "3250  -34,7724652485211  -58,6404861634561  \n",
      "3251  -34,7468379962284  -58,5925328858169  \n",
      "3252  -34,7184291570686   -58,577751528605  \n",
      "3305  -34,7132054583486  -58,6258365121679  \n",
      "3306  -34,6523081823718  -58,5592114732944  \n",
      "3307  -34,6881604248706  -58,5626785715398  \n",
      "3329  -34,8191368630736  -58,4726947603508  \n",
      "3337  -34,8475213469043   -58,686067635918  \n",
      "3357   -34,920863104693  -57,9540560062469  \n",
      "3474  -34,7960544308506  -58,2748588953342  \n",
      "3481  -34,6957815314992   -58,416253274019  \n",
      "3682  -33,1242631220064  -64,3487377033754  \n",
      "3730  -31,3687044068789  -58,0450288431718  \n",
      "3892  -28,4846581947085  -65,7867892937631  \n",
      "4068  -34,7379027155314   -58,440675368556  \n",
      "4235  -38,7114037284555  -62,2569089501864  \n"
     ]
    }
   ],
   "source": [
    "atípicos = df[df['Poblacion'] > maximo]\n",
    "print(len(atípicos), 'registros')\n",
    "print(atípicos)\n"
   ]
  },
  {
   "cell_type": "markdown",
   "metadata": {},
   "source": [
    "Ahora se ve con el método de rango intercuartílico o IQR (método de Tukey's fences)"
   ]
  },
  {
   "cell_type": "code",
   "execution_count": 28,
   "metadata": {},
   "outputs": [
    {
     "name": "stdout",
     "output_type": "stream",
     "text": [
      "-4525.25  lim inferior -  -4525.25 limite_superior 7852.75\n",
      "679 registros\n",
      "         Provincia                  Partido  \\\n",
      "2     BUENOS AIRES                 Balcarce   \n",
      "8     BUENOS AIRES                 Baradero   \n",
      "14    BUENOS AIRES        General Las Heras   \n",
      "24    BUENOS AIRES              General Paz   \n",
      "30    BUENOS AIRES                Magdalena   \n",
      "...            ...                      ...   \n",
      "4302         CHACO    Mayor Luis J. Fontana   \n",
      "4305         CHACO                O Higgins   \n",
      "4306         CHACO  Presidencia de la Plaza   \n",
      "4307         CHACO                Quitilipi   \n",
      "4309         CHACO             San Fernando   \n",
      "\n",
      "                               Localidad  Poblacion ADSL CABLEMODEM DIALUP  \\\n",
      "2                               Balcarce      38376   SI         SI     SI   \n",
      "8                               Baradero      28537   SI         SI     --   \n",
      "14    General Las Heras (Est. Las Heras)      11331   SI         SI     SI   \n",
      "24                               Ranchos       7916   SI         --     SI   \n",
      "30                             Magdalena      11093   SI         SI     SI   \n",
      "...                                  ...        ...  ...        ...    ...   \n",
      "4302                        Villa Angela      41403   SI         SI     --   \n",
      "4305                        San Bernardo       9379   --         --     --   \n",
      "4306             Presidencia de la Plaza       9642   SI         SI     --   \n",
      "4307                           Quitilipi      24517   SI         --     --   \n",
      "4309                        Barranqueras      54698   SI         SI     --   \n",
      "\n",
      "     FIBRAOPTICA SATELITAL WIRELESS TELEFONIAFIJA  3G  4G        link  \\\n",
      "2             SI        --       SI            SI  SI  SI   6063010.0   \n",
      "8             SI        SI       SI            SI  SI  SI   6070010.0   \n",
      "14            SI        --       SI            SI  SI  SI   6329020.0   \n",
      "24            SI        --       SI            SI  SI  SI   6343030.0   \n",
      "30            --        --       SI            SI  SI  SI   6505040.0   \n",
      "...          ...       ...      ...           ...  ..  ..         ...   \n",
      "4302          SI        --       SI            SI  SI  SI  22098030.0   \n",
      "4305          --        --       --            --  SI  SI  22112030.0   \n",
      "4306          SI        --       SI            SI  SI  SI  22119010.0   \n",
      "4307          SI        --       SI            SI  SI  SI  22133010.0   \n",
      "4309          SI        --       SI            SI  SI  SI  22140010.0   \n",
      "\n",
      "                Latitud           Longitud  \n",
      "2     -37,8482779294345  -58,2551665841248  \n",
      "8     -33,8128781547156  -59,5043068852807  \n",
      "14    -34,9267739074255  -58,9453407851291  \n",
      "24    -35,5173520233652  -58,3184247148653  \n",
      "30    -35,0806853032506  -57,5172585839912  \n",
      "...                 ...                ...  \n",
      "4302  -27,5788592432947  -60,7141120066309  \n",
      "4305  -27,2904384132604  -60,7149736332961  \n",
      "4306  -27,0029714359347   -59,847600385659  \n",
      "4307  -26,8732071732978  -60,2185241226399  \n",
      "4309  -27,4877739289761  -58,9327416886365  \n",
      "\n",
      "[679 rows x 16 columns]\n"
     ]
    }
   ],
   "source": [
    "\n",
    "# Calcular los límites para los outliers\n",
    "Q1 = df['Poblacion'].quantile(0.25)\n",
    "Q3 = df['Poblacion'].quantile(0.75)\n",
    "IQR = Q3 - Q1\n",
    "limite_inferior = Q1 - 1.5 * IQR\n",
    "limite_superior = Q3 + 1.5 * IQR\n",
    "print(limite_inferior, ' lim inferior - ', limite_inferior, 'limite_superior',limite_superior)\n",
    "# Filtrar los registros que contienen outliers en la columna 'Fibra óptica'\n",
    "outliers = df.loc[(df['Poblacion'] < limite_inferior) | (df['Poblacion'] > limite_superior)]\n",
    "print(len(outliers), 'registros')\n",
    "print(outliers)"
   ]
  },
  {
   "cell_type": "markdown",
   "metadata": {},
   "source": [
    "En base a los distintos resultados de los métodos de detección de autliers, se afirmar (lo mismo que en caso del EDA del acceso de internet por tecnología) que esto se debe a que el método de tres sigmas se basa en la desviación estándar de los datos y asume que los datos siguen una distribución normal, mientras que el método de Tukey es más robusto y no asume una distribución específica. El método de Tukey es especialmente útil cuando los datos no siguen una distribución normal o cuando hay valores atípicos extremos en el conjunto de datos.\n",
    "\n",
    "Asi que lo que sigue es ver la distribución de esta variable."
   ]
  },
  {
   "cell_type": "code",
   "execution_count": 29,
   "metadata": {},
   "outputs": [
    {
     "data": {
      "image/png": "[encoded data removed]",
      "text/plain": [
       "<Figure size 640x480 with 1 Axes>"
      ]
     },
     "metadata": {},
     "output_type": "display_data"
    }
   ],
   "source": [
    "poblacion = df['Poblacion']\n",
    "\n",
    "# Crear el gráfico de distribución\n",
    "plt.hist(poblacion, bins=10, edgecolor='black')\n",
    "\n",
    "# Etiquetas y título\n",
    "plt.xlabel('Población')\n",
    "plt.ylabel('Frecuencia')\n",
    "plt.title('Distribución de la Población')\n",
    "\n",
    "plt.show()\n"
   ]
  },
  {
   "cell_type": "markdown",
   "metadata": {},
   "source": [
    "Mucha información no se aprecia, más que acotar que sigue una distribución sesgada a la izquierda por lo cual tomaria el método de Tukey's fences"
   ]
  },
  {
   "cell_type": "markdown",
   "metadata": {},
   "source": [
    "### 4. Métricas y visualización de datos <a name=\"id4\"></a>"
   ]
  },
  {
   "cell_type": "markdown",
   "metadata": {},
   "source": [
    "Este apartado se toma para aprovechar la visualización de los datos mediante metricas que nos ayuden en los KPI's definidos para la consecución de los objetivos."
   ]
  },
  {
   "cell_type": "markdown",
   "metadata": {},
   "source": [
    "<ul>\n",
    "<li> **Tasa de conversion de localidades actuales**. Tasas de conversión de los clientes que demanda (localidades que registran accesos) sobre el total de clientes interesados (localidades con y sin accesos). </li>\n",
    "<li> **Total de accesos actuales ** (o en base al periodo 2022).</li>\n",
    "<li> **Porcentaje de accesos con fibra óptica**.</li>\n",
    "<li> **Porcentaje de accesos con cablemodem**.</li>\n",
    "</ul>"
   ]
  },
  {
   "cell_type": "code",
   "execution_count": 39,
   "metadata": {},
   "outputs": [
    {
     "name": "stdout",
     "output_type": "stream",
     "text": [
      "Se registran 4307 localidades, de las cuales, 3765 son clientes y 542 son clientes potenciales\n"
     ]
    }
   ],
   "source": [
    "total_localidades = len(df)\n",
    "\n",
    "localidades_con_acceso = len(df[df['Poblacion'] > 0])\n",
    "\n",
    "localidades_sin_acceso = len(df[df['Poblacion'] == 0])\n",
    "\n",
    "print('Se registran', total_localidades, 'localidades, de las cuales,',localidades_con_acceso, 'son clientes y', localidades_sin_acceso, 'son clientes potenciales')\n"
   ]
  },
  {
   "cell_type": "code",
   "execution_count": 42,
   "metadata": {},
   "outputs": [
    {
     "name": "stdout",
     "output_type": "stream",
     "text": [
      "87.41583468771766\n"
     ]
    }
   ],
   "source": [
    "tasa_conversion = localidades_con_acceso/total_localidades\n",
    "print(tasa_conversion*100)"
   ]
  },
  {
   "cell_type": "code",
   "execution_count": 43,
   "metadata": {},
   "outputs": [
    {
     "name": "stdout",
     "output_type": "stream",
     "text": [
      "12.58416531228233\n"
     ]
    }
   ],
   "source": [
    "print((localidades_sin_acceso/total_localidades) *100)"
   ]
  },
  {
   "cell_type": "code",
   "execution_count": 61,
   "metadata": {},
   "outputs": [
    {
     "data": {
      "image/png": "[encoded data removed]",
      "text/plain": [
       "<Figure size 640x480 with 1 Axes>"
      ]
     },
     "metadata": {},
     "output_type": "display_data"
    }
   ],
   "source": [
    "labels = ['Localidades con servicio', 'Localidades sin servicio']\n",
    "sizes = [localidades_con_acceso, localidades_sin_acceso]\n",
    "total = sum(sizes)\n",
    "percentages = [round((size / total) * 100, 2) for size in sizes]\n",
    "\n",
    "\n",
    "colors = ['#FFA500', '#008000']  \n",
    "\n",
    "fig, ax = plt.subplots()\n",
    "ax.pie(sizes, labels=labels, autopct='%1.1f%%', startangle=90, colors=colors)\n",
    "ax.set_aspect('equal')\n",
    "ax.set_title('Registro de localidades y la demanda de servicio de internet')\n",
    "\n",
    "plt.show()\n"
   ]
  },
  {
   "cell_type": "code",
   "execution_count": 62,
   "metadata": {},
   "outputs": [
    {
     "name": "stdout",
     "output_type": "stream",
     "text": [
      "De las localidades potenciales ( 542 ):  76 tienen acceso a fibra óptica y 466 no poseen acceso.\n"
     ]
    }
   ],
   "source": [
    "# ver porcentaje de localidades en poblacion = 0 pero con acceso a fibra optica y sin acceso.\n",
    "localidades_sin_acceso_fo = len(df[(df['Poblacion'] == 0) & (df['FIBRAOPTICA'] == '--')])\n",
    "localidades_con_acceso_fo = len(df[(df['Poblacion'] == 0) & (df['FIBRAOPTICA'] == 'SI')])\n",
    "\n",
    "print('De las localidades potenciales (',localidades_sin_acceso,'): ',localidades_con_acceso_fo,'tienen acceso a fibra óptica y',localidades_sin_acceso_fo,'no poseen acceso.')"
   ]
  },
  {
   "cell_type": "code",
   "execution_count": 56,
   "metadata": {},
   "outputs": [
    {
     "name": "stdout",
     "output_type": "stream",
     "text": [
      "El  14.022140221402212  tiene acceso a fibra optica\n"
     ]
    }
   ],
   "source": [
    "print('El ',(localidades_con_acceso_fo/localidades_sin_acceso) *100,' tiene acceso a fibra optica')"
   ]
  },
  {
   "cell_type": "code",
   "execution_count": 57,
   "metadata": {},
   "outputs": [
    {
     "name": "stdout",
     "output_type": "stream",
     "text": [
      "El  85.97785977859779  no tiene acceso a fibra optica\n"
     ]
    }
   ],
   "source": [
    "print('El ',(localidades_sin_acceso_fo/localidades_sin_acceso) *100,' no tiene acceso a fibra optica')"
   ]
  },
  {
   "cell_type": "code",
   "execution_count": 73,
   "metadata": {},
   "outputs": [
    {
     "data": {
      "image/png": "[encoded data removed]",
      "text/plain": [
       "<Figure size 640x480 with 1 Axes>"
      ]
     },
     "metadata": {},
     "output_type": "display_data"
    },
    {
     "name": "stdout",
     "output_type": "stream",
     "text": [
      "De las localidades potenciales ( 542 ): 76 tienen acceso a fibra óptica y 466 no poseen acceso.\n"
     ]
    }
   ],
   "source": [
    "labels = ['Con acceso a fibra óptica', 'Sin acceso a fibra óptica']\n",
    "sizes = [localidades_con_acceso_fo, localidades_sin_acceso_fo]\n",
    "total = sum(sizes)\n",
    "percentages = [round((size / total) * 100, 2) for size in sizes]\n",
    "\n",
    "colors = ['#FFFF00', '#ff69b4']\n",
    "\n",
    "fig, ax = plt.subplots()\n",
    "ax.pie(sizes, labels=labels, autopct='%1.1f%%', startangle=90, colors=colors)\n",
    "ax.set_aspect('equal')\n",
    "ax.set_title('Localidades potenciales y la tecnología de la fibra óptica')\n",
    "\n",
    "plt.show()\n",
    "\n",
    "print('De las localidades potenciales (', localidades_sin_acceso, '):', localidades_con_acceso_fo, 'tienen acceso a fibra óptica y', localidades_sin_acceso_fo, 'no poseen acceso.')\n"
   ]
  },
  {
   "cell_type": "code",
   "execution_count": 58,
   "metadata": {},
   "outputs": [
    {
     "name": "stdout",
     "output_type": "stream",
     "text": [
      "De las localidades potenciales ( 542 ):  24 tienen acceso a CABLEMODEM y 518 no poseen acceso.\n"
     ]
    }
   ],
   "source": [
    "# ver porcentaje de localidades en poblacion = 0 pero con acceso a cablemodem y sin acceso.\n",
    "localidades_sin_acceso_CM = len(df[(df['Poblacion'] == 0) & (df['CABLEMODEM'] == '--')])\n",
    "localidades_con_acceso_CM = len(df[(df['Poblacion'] == 0) & (df['CABLEMODEM'] == 'SI')])\n",
    "\n",
    "print('De las localidades potenciales (',localidades_sin_acceso,'): ',localidades_con_acceso_CM,'tienen acceso a CABLEMODEM y',localidades_sin_acceso_CM,'no poseen acceso.')"
   ]
  },
  {
   "cell_type": "code",
   "execution_count": 53,
   "metadata": {},
   "outputs": [
    {
     "name": "stdout",
     "output_type": "stream",
     "text": [
      "El  4.428044280442804  tiene acceso a cablemodem\n"
     ]
    }
   ],
   "source": [
    "print('El ',(localidades_con_acceso_CM/localidades_sin_acceso) *100,' tiene acceso a cablemodem')"
   ]
  },
  {
   "cell_type": "code",
   "execution_count": 54,
   "metadata": {},
   "outputs": [
    {
     "name": "stdout",
     "output_type": "stream",
     "text": [
      "El  95.5719557195572  no tiene acceso a cablemodem\n"
     ]
    }
   ],
   "source": [
    "print('El ',(localidades_sin_acceso_CM/localidades_sin_acceso) *100,' no tiene acceso a cablemodem')"
   ]
  },
  {
   "cell_type": "code",
   "execution_count": 79,
   "metadata": {},
   "outputs": [
    {
     "data": {
      "image/png": "[encoded data removed]",
      "text/plain": [
       "<Figure size 640x480 with 1 Axes>"
      ]
     },
     "metadata": {},
     "output_type": "display_data"
    },
    {
     "name": "stdout",
     "output_type": "stream",
     "text": [
      "De las localidades potenciales ( 542 ): 24 tienen acceso a cablemodem y 518 no poseen acceso.\n"
     ]
    }
   ],
   "source": [
    "labels = ['Con acceso a cablemodem', 'Sin acceso a cablemodem']\n",
    "sizes = [localidades_con_acceso_CM, localidades_sin_acceso_CM]\n",
    "total = sum(sizes)\n",
    "percentages = [round((size / total) * 100, 2) for size in sizes]\n",
    "colors = ['#FFFF00', '#00FFFF']\n",
    "\n",
    "fig, ax = plt.subplots()\n",
    "ax.pie(sizes, labels=labels, autopct='%1.1f%%', startangle=90, colors=colors)\n",
    "ax.set_aspect('equal')\n",
    "ax.set_title('Localidades potenciales y la tecnología de cablemodem')\n",
    "\n",
    "plt.show()\n",
    "\n",
    "print('De las localidades potenciales (', localidades_sin_acceso, '):', localidades_con_acceso_CM, 'tienen acceso a cablemodem y', localidades_sin_acceso_CM, 'no poseen acceso.')\n"
   ]
  },
  {
   "cell_type": "code",
   "execution_count": 30,
   "metadata": {},
   "outputs": [],
   "source": [
    "# Exportamos el dataset sin duplicados\n",
    "df.to_csv('../datasets/ConectividadalserviciodeInternet_limpiado.csv', encoding=\"utf-8\", index=False, sep=\";\")"
   ]
  },
  {
   "cell_type": "code",
   "execution_count": 31,
   "metadata": {},
   "outputs": [],
   "source": [
    "# Se exportan estos datos para cumplimentar el kpi\n",
    "df_expansion = df[df['Poblacion'] == 0]\n",
    "df_expansion.to_csv('../datasets/conectividadlocalidades_oportunidadExpansion.csv', encoding=\"utf-8\", index=False, sep=\";\")"
   ]
  },
  {
   "attachments": {},
   "cell_type": "markdown",
   "metadata": {},
   "source": [
    "### 5. Conclusión <a name=\"id5\"></a>\n",
    "\n",
    "Se detallan algunos registros duplicados que fueron eliminados (5 en total), luego se observan registros con poblacion = 0, por lo que se concluye que estos registros corresponden a localidades donde no hay demanda del servicio de internet pero en algunas se tiene acceso a determinadas tecnologías de conectividad y otras no. Entonces se puede aprovechar para potenciar la demanda:\n",
    "Se determino un registro de 4307 localidades, de las cuales, 3765 son clientes y 542 son clientes potenciales, es decir como tasa de localidades clientes se tiene un 87% en contraste con los clientes potenciales que representan el 13%. \n",
    "Ahora bien como se conoce en base al analisis del eda de los accesos de internet por tecnologia se sabe que las más predominantes son por cablemodem y fibra óptica.\n",
    "Para el cablemodem de las 542 localidades potenciales, 24, el 4% tienen potencial acceso por cablemodem y 518, el 96% no poseen acceso. Y para la fibra optica, de las 542 localidades potenciales, 76, el 14% tienen acceso a fibra óptica y 466, el 86% no poseen acceso.\n"
   ]
  }
 ],
 "metadata": {
  "kernelspec": {
   "display_name": "desarrollo-env",
   "language": "python",
   "name": "python3"
  },
  "language_info": {
   "codemirror_mode": {
    "name": "ipython",
    "version": 3
   },
   "file_extension": ".py",
   "mimetype": "text/x-python",
   "name": "python",
   "nbconvert_exporter": "python",
   "pygments_lexer": "ipython3",
   "version": "3.9.0"
  },
  "orig_nbformat": 4
 },
 "nbformat": 4,
 "nbformat_minor": 2
}
