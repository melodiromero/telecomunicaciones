{
 "cells": [
  {
   "attachments": {},
   "cell_type": "markdown",
   "metadata": {},
   "source": [
    "## Exploración de datos: accesos de internet por provincia y tecnología"
   ]
  },
  {
   "cell_type": "markdown",
   "metadata": {},
   "source": [
    "### Índice\n",
    "1. [Descripción de los datos ](#id1)\n",
    "2. [Outliers](#id2)\n",
    "3. [Análisis y visualización de los datos](#id3)\n",
    "4. [Conclusión](#id4)\n"
   ]
  },
  {
   "cell_type": "markdown",
   "metadata": {},
   "source": [
    "### 1. Descripción de los datos<a name=\"id1\"></a>\n",
    "Se describen la cantidad de registros y columnas con sus tipos de datos, ocupación en memoria y una estadística descriptiva de los mismos: cúal es el promedio, el desvío estándar, los cuartiles, todos medidas de tendencia central."
   ]
  },
  {
   "cell_type": "code",
   "execution_count": 32,
   "metadata": {},
   "outputs": [],
   "source": [
    "# Se importa las librerias necesarias\n",
    "import pandas as pd\n",
    "import matplotlib.pyplot as plt "
   ]
  },
  {
   "cell_type": "code",
   "execution_count": 33,
   "metadata": {},
   "outputs": [],
   "source": [
    "df = pd.read_csv('../datasets/Internet_Accesos-por-tecnologiayporprovincia.csv', delimiter=';')"
   ]
  },
  {
   "cell_type": "code",
   "execution_count": 34,
   "metadata": {},
   "outputs": [
    {
     "data": {
      "text/html": [
       "<div>\n",
       "<style scoped>\n",
       "    .dataframe tbody tr th:only-of-type {\n",
       "        vertical-align: middle;\n",
       "    }\n",
       "\n",
       "    .dataframe tbody tr th {\n",
       "        vertical-align: top;\n",
       "    }\n",
       "\n",
       "    .dataframe thead th {\n",
       "        text-align: right;\n",
       "    }\n",
       "</style>\n",
       "<table border=\"1\" class=\"dataframe\">\n",
       "  <thead>\n",
       "    <tr style=\"text-align: right;\">\n",
       "      <th></th>\n",
       "      <th>Año</th>\n",
       "      <th>Trimestre</th>\n",
       "      <th>Provincia</th>\n",
       "      <th>ADSL</th>\n",
       "      <th>Cablemodem</th>\n",
       "      <th>Fibra óptica</th>\n",
       "      <th>Wireless</th>\n",
       "      <th>Otros</th>\n",
       "      <th>Total</th>\n",
       "    </tr>\n",
       "  </thead>\n",
       "  <tbody>\n",
       "    <tr>\n",
       "      <th>0</th>\n",
       "      <td>2022</td>\n",
       "      <td>3</td>\n",
       "      <td>Buenos Aires</td>\n",
       "      <td>339648</td>\n",
       "      <td>2748325</td>\n",
       "      <td>1436433</td>\n",
       "      <td>126846</td>\n",
       "      <td>70416</td>\n",
       "      <td>4721668</td>\n",
       "    </tr>\n",
       "    <tr>\n",
       "      <th>1</th>\n",
       "      <td>2022</td>\n",
       "      <td>3</td>\n",
       "      <td>Capital Federal</td>\n",
       "      <td>140791</td>\n",
       "      <td>1240125</td>\n",
       "      <td>129218</td>\n",
       "      <td>5758</td>\n",
       "      <td>31787</td>\n",
       "      <td>1547679</td>\n",
       "    </tr>\n",
       "    <tr>\n",
       "      <th>2</th>\n",
       "      <td>2022</td>\n",
       "      <td>3</td>\n",
       "      <td>Catamarca</td>\n",
       "      <td>10010</td>\n",
       "      <td>10495</td>\n",
       "      <td>46224</td>\n",
       "      <td>1329</td>\n",
       "      <td>2235</td>\n",
       "      <td>70293</td>\n",
       "    </tr>\n",
       "    <tr>\n",
       "      <th>3</th>\n",
       "      <td>2022</td>\n",
       "      <td>3</td>\n",
       "      <td>Chaco</td>\n",
       "      <td>27164</td>\n",
       "      <td>61800</td>\n",
       "      <td>44645</td>\n",
       "      <td>8178</td>\n",
       "      <td>2359</td>\n",
       "      <td>144146</td>\n",
       "    </tr>\n",
       "    <tr>\n",
       "      <th>4</th>\n",
       "      <td>2022</td>\n",
       "      <td>3</td>\n",
       "      <td>Chubut</td>\n",
       "      <td>45377</td>\n",
       "      <td>72212</td>\n",
       "      <td>9574</td>\n",
       "      <td>29784</td>\n",
       "      <td>8831</td>\n",
       "      <td>165778</td>\n",
       "    </tr>\n",
       "    <tr>\n",
       "      <th>5</th>\n",
       "      <td>2022</td>\n",
       "      <td>3</td>\n",
       "      <td>Córdoba</td>\n",
       "      <td>163770</td>\n",
       "      <td>465461</td>\n",
       "      <td>338570</td>\n",
       "      <td>61070</td>\n",
       "      <td>9797</td>\n",
       "      <td>1038668</td>\n",
       "    </tr>\n",
       "    <tr>\n",
       "      <th>6</th>\n",
       "      <td>2022</td>\n",
       "      <td>3</td>\n",
       "      <td>Corrientes</td>\n",
       "      <td>36508</td>\n",
       "      <td>77140</td>\n",
       "      <td>18619</td>\n",
       "      <td>7256</td>\n",
       "      <td>5323</td>\n",
       "      <td>144846</td>\n",
       "    </tr>\n",
       "    <tr>\n",
       "      <th>7</th>\n",
       "      <td>2022</td>\n",
       "      <td>3</td>\n",
       "      <td>Entre Ríos</td>\n",
       "      <td>60345</td>\n",
       "      <td>132952</td>\n",
       "      <td>36971</td>\n",
       "      <td>26098</td>\n",
       "      <td>12593</td>\n",
       "      <td>268959</td>\n",
       "    </tr>\n",
       "    <tr>\n",
       "      <th>8</th>\n",
       "      <td>2022</td>\n",
       "      <td>3</td>\n",
       "      <td>Formosa</td>\n",
       "      <td>14470</td>\n",
       "      <td>25880</td>\n",
       "      <td>11041</td>\n",
       "      <td>16935</td>\n",
       "      <td>212</td>\n",
       "      <td>68538</td>\n",
       "    </tr>\n",
       "    <tr>\n",
       "      <th>9</th>\n",
       "      <td>2022</td>\n",
       "      <td>3</td>\n",
       "      <td>Jujuy</td>\n",
       "      <td>19257</td>\n",
       "      <td>52978</td>\n",
       "      <td>40172</td>\n",
       "      <td>4033</td>\n",
       "      <td>2383</td>\n",
       "      <td>118823</td>\n",
       "    </tr>\n",
       "    <tr>\n",
       "      <th>10</th>\n",
       "      <td>2022</td>\n",
       "      <td>3</td>\n",
       "      <td>La Pampa</td>\n",
       "      <td>7796</td>\n",
       "      <td>60078</td>\n",
       "      <td>23551</td>\n",
       "      <td>20216</td>\n",
       "      <td>4451</td>\n",
       "      <td>116092</td>\n",
       "    </tr>\n",
       "    <tr>\n",
       "      <th>11</th>\n",
       "      <td>2022</td>\n",
       "      <td>3</td>\n",
       "      <td>La Rioja</td>\n",
       "      <td>6842</td>\n",
       "      <td>53899</td>\n",
       "      <td>19697</td>\n",
       "      <td>6395</td>\n",
       "      <td>31</td>\n",
       "      <td>86864</td>\n",
       "    </tr>\n",
       "    <tr>\n",
       "      <th>12</th>\n",
       "      <td>2022</td>\n",
       "      <td>3</td>\n",
       "      <td>Mendoza</td>\n",
       "      <td>37659</td>\n",
       "      <td>78858</td>\n",
       "      <td>142615</td>\n",
       "      <td>27625</td>\n",
       "      <td>2766</td>\n",
       "      <td>289523</td>\n",
       "    </tr>\n",
       "    <tr>\n",
       "      <th>13</th>\n",
       "      <td>2022</td>\n",
       "      <td>3</td>\n",
       "      <td>Misiones</td>\n",
       "      <td>35513</td>\n",
       "      <td>88902</td>\n",
       "      <td>39046</td>\n",
       "      <td>11074</td>\n",
       "      <td>7622</td>\n",
       "      <td>182157</td>\n",
       "    </tr>\n",
       "    <tr>\n",
       "      <th>14</th>\n",
       "      <td>2022</td>\n",
       "      <td>3</td>\n",
       "      <td>Neuquén</td>\n",
       "      <td>29352</td>\n",
       "      <td>75815</td>\n",
       "      <td>29396</td>\n",
       "      <td>27482</td>\n",
       "      <td>1116</td>\n",
       "      <td>163161</td>\n",
       "    </tr>\n",
       "    <tr>\n",
       "      <th>15</th>\n",
       "      <td>2022</td>\n",
       "      <td>3</td>\n",
       "      <td>Río Negro</td>\n",
       "      <td>35552</td>\n",
       "      <td>48260</td>\n",
       "      <td>41017</td>\n",
       "      <td>16760</td>\n",
       "      <td>18969</td>\n",
       "      <td>160558</td>\n",
       "    </tr>\n",
       "    <tr>\n",
       "      <th>16</th>\n",
       "      <td>2022</td>\n",
       "      <td>3</td>\n",
       "      <td>Salta</td>\n",
       "      <td>40006</td>\n",
       "      <td>96984</td>\n",
       "      <td>50254</td>\n",
       "      <td>10082</td>\n",
       "      <td>7215</td>\n",
       "      <td>204541</td>\n",
       "    </tr>\n",
       "    <tr>\n",
       "      <th>17</th>\n",
       "      <td>2022</td>\n",
       "      <td>3</td>\n",
       "      <td>San Juan</td>\n",
       "      <td>38570</td>\n",
       "      <td>22723</td>\n",
       "      <td>12328</td>\n",
       "      <td>21860</td>\n",
       "      <td>7918</td>\n",
       "      <td>103399</td>\n",
       "    </tr>\n",
       "    <tr>\n",
       "      <th>18</th>\n",
       "      <td>2022</td>\n",
       "      <td>3</td>\n",
       "      <td>San Luis</td>\n",
       "      <td>6860</td>\n",
       "      <td>29363</td>\n",
       "      <td>248</td>\n",
       "      <td>70614</td>\n",
       "      <td>14985</td>\n",
       "      <td>122070</td>\n",
       "    </tr>\n",
       "    <tr>\n",
       "      <th>19</th>\n",
       "      <td>2022</td>\n",
       "      <td>3</td>\n",
       "      <td>Santa Cruz</td>\n",
       "      <td>10170</td>\n",
       "      <td>24047</td>\n",
       "      <td>10815</td>\n",
       "      <td>3896</td>\n",
       "      <td>582</td>\n",
       "      <td>49510</td>\n",
       "    </tr>\n",
       "  </tbody>\n",
       "</table>\n",
       "</div>"
      ],
      "text/plain": [
       "     Año Trimestre        Provincia    ADSL  Cablemodem  Fibra óptica  \\\n",
       "0   2022         3     Buenos Aires  339648     2748325       1436433   \n",
       "1   2022         3  Capital Federal  140791     1240125        129218   \n",
       "2   2022         3        Catamarca   10010       10495         46224   \n",
       "3   2022         3            Chaco   27164       61800         44645   \n",
       "4   2022         3           Chubut   45377       72212          9574   \n",
       "5   2022         3          Córdoba  163770      465461        338570   \n",
       "6   2022         3       Corrientes   36508       77140         18619   \n",
       "7   2022         3       Entre Ríos   60345      132952         36971   \n",
       "8   2022         3          Formosa   14470       25880         11041   \n",
       "9   2022         3            Jujuy   19257       52978         40172   \n",
       "10  2022         3         La Pampa    7796       60078         23551   \n",
       "11  2022         3         La Rioja    6842       53899         19697   \n",
       "12  2022         3          Mendoza   37659       78858        142615   \n",
       "13  2022         3         Misiones   35513       88902         39046   \n",
       "14  2022         3          Neuquén   29352       75815         29396   \n",
       "15  2022         3        Río Negro   35552       48260         41017   \n",
       "16  2022         3            Salta   40006       96984         50254   \n",
       "17  2022         3         San Juan   38570       22723         12328   \n",
       "18  2022         3         San Luis    6860       29363           248   \n",
       "19  2022         3       Santa Cruz   10170       24047         10815   \n",
       "\n",
       "    Wireless  Otros    Total  \n",
       "0     126846  70416  4721668  \n",
       "1       5758  31787  1547679  \n",
       "2       1329   2235    70293  \n",
       "3       8178   2359   144146  \n",
       "4      29784   8831   165778  \n",
       "5      61070   9797  1038668  \n",
       "6       7256   5323   144846  \n",
       "7      26098  12593   268959  \n",
       "8      16935    212    68538  \n",
       "9       4033   2383   118823  \n",
       "10     20216   4451   116092  \n",
       "11      6395     31    86864  \n",
       "12     27625   2766   289523  \n",
       "13     11074   7622   182157  \n",
       "14     27482   1116   163161  \n",
       "15     16760  18969   160558  \n",
       "16     10082   7215   204541  \n",
       "17     21860   7918   103399  \n",
       "18     70614  14985   122070  \n",
       "19      3896    582    49510  "
      ]
     },
     "execution_count": 34,
     "metadata": {},
     "output_type": "execute_result"
    }
   ],
   "source": [
    "df.head(20)"
   ]
  },
  {
   "cell_type": "code",
   "execution_count": 35,
   "metadata": {},
   "outputs": [
    {
     "data": {
      "text/plain": [
       "840"
      ]
     },
     "execution_count": 35,
     "metadata": {},
     "output_type": "execute_result"
    }
   ],
   "source": [
    "# se averigua cuántos registros hay: 840 registros\n",
    "df.shape[0]"
   ]
  },
  {
   "cell_type": "code",
   "execution_count": 36,
   "metadata": {},
   "outputs": [
    {
     "name": "stdout",
     "output_type": "stream",
     "text": [
      "<class 'pandas.core.frame.DataFrame'>\n",
      "RangeIndex: 840 entries, 0 to 839\n",
      "Data columns (total 9 columns):\n",
      " #   Column        Non-Null Count  Dtype \n",
      "---  ------        --------------  ----- \n",
      " 0   Año           840 non-null    object\n",
      " 1   Trimestre     840 non-null    object\n",
      " 2   Provincia     840 non-null    object\n",
      " 3   ADSL          840 non-null    int64 \n",
      " 4   Cablemodem    840 non-null    int64 \n",
      " 5   Fibra óptica  840 non-null    int64 \n",
      " 6   Wireless      840 non-null    int64 \n",
      " 7   Otros         840 non-null    int64 \n",
      " 8   Total         840 non-null    int64 \n",
      "dtypes: int64(6), object(3)\n",
      "memory usage: 59.2+ KB\n"
     ]
    }
   ],
   "source": [
    "# Se observa por columna: la cantidad de registro, el tipo de dato y si tiene valores nulos o no. \n",
    "# También se observa el uso de memoria.\n",
    "df.info()"
   ]
  },
  {
   "cell_type": "code",
   "execution_count": 37,
   "metadata": {},
   "outputs": [
    {
     "data": {
      "text/plain": [
       "array(['2022', '2021', '2020', '2019', '2019 *', '2018', '2017', '2016',\n",
       "       '2015', '2014'], dtype=object)"
      ]
     },
     "execution_count": 37,
     "metadata": {},
     "output_type": "execute_result"
    }
   ],
   "source": [
    "df['Año'].unique() # Se ve los distintos valores para la categoria Año"
   ]
  },
  {
   "cell_type": "markdown",
   "metadata": {},
   "source": [
    "Se observa que para Año hay registros con valor 2019 y 2019 *. Según la fuente de datos de ENACOM, se refiere a que los datos provinciales no coinciden a nivel nacional, ya que se rincorporó información que no contien apertuta a nivel geográfico. Se va reemplazar 2019* por 2019."
   ]
  },
  {
   "cell_type": "code",
   "execution_count": 38,
   "metadata": {},
   "outputs": [],
   "source": [
    "df.loc[df['Año'] == '2019 *', 'Año'] = '2019'"
   ]
  },
  {
   "cell_type": "code",
   "execution_count": 9,
   "metadata": {},
   "outputs": [
    {
     "name": "stdout",
     "output_type": "stream",
     "text": [
      "['2022' '2021' '2020' '2019' '2018' '2017' '2016' '2015' '2014']\n"
     ]
    }
   ],
   "source": [
    "print(df['Año'].unique())"
   ]
  },
  {
   "cell_type": "code",
   "execution_count": 39,
   "metadata": {},
   "outputs": [
    {
     "data": {
      "text/plain": [
       "array(['3', '2', '1', '4', '3 *', '2 *', '1 *'], dtype=object)"
      ]
     },
     "execution_count": 39,
     "metadata": {},
     "output_type": "execute_result"
    }
   ],
   "source": [
    "df['Trimestre'].unique() # Se ve los distintos valores para la categoria trimestre"
   ]
  },
  {
   "cell_type": "markdown",
   "metadata": {},
   "source": [
    "En este caso se hace lo mismo para 3 *, 2 * y 1 *."
   ]
  },
  {
   "cell_type": "code",
   "execution_count": 40,
   "metadata": {},
   "outputs": [],
   "source": [
    "df.loc[df['Trimestre'] == '3 *', 'Trimestre'] = '3'\n",
    "df.loc[df['Trimestre'] == '2 *', 'Trimestre'] = '2'\n",
    "df.loc[df['Trimestre'] == '1 *', 'Trimestre'] = '1'"
   ]
  },
  {
   "cell_type": "code",
   "execution_count": 41,
   "metadata": {},
   "outputs": [
    {
     "data": {
      "text/plain": [
       "array(['3', '2', '1', '4'], dtype=object)"
      ]
     },
     "execution_count": 41,
     "metadata": {},
     "output_type": "execute_result"
    }
   ],
   "source": [
    "df['Trimestre'].unique() "
   ]
  },
  {
   "cell_type": "code",
   "execution_count": 42,
   "metadata": {},
   "outputs": [
    {
     "data": {
      "text/plain": [
       "array(['Buenos Aires', 'Capital Federal', 'Catamarca', 'Chaco', 'Chubut',\n",
       "       'Córdoba', 'Corrientes', 'Entre Ríos', 'Formosa', 'Jujuy',\n",
       "       'La Pampa', 'La Rioja', 'Mendoza', 'Misiones', 'Neuquén',\n",
       "       'Río Negro', 'Salta', 'San Juan', 'San Luis', 'Santa Cruz',\n",
       "       'Santa Fe', 'Santiago Del Estero', 'Tierra Del Fuego', 'Tucumán'],\n",
       "      dtype=object)"
      ]
     },
     "execution_count": 42,
     "metadata": {},
     "output_type": "execute_result"
    }
   ],
   "source": [
    "df['Provincia'].unique() "
   ]
  },
  {
   "cell_type": "code",
   "execution_count": 43,
   "metadata": {},
   "outputs": [],
   "source": [
    "# Corregido lo anterior en Año y Trimeste, ahora se pasan algunas variables a categoricas\n",
    "df['Año']           = df['Año'].astype('category')\n",
    "df['Trimestre']     = df['Trimestre'].astype('category')\n",
    "df['Provincia']     = df['Provincia'].astype('category')"
   ]
  },
  {
   "cell_type": "code",
   "execution_count": 44,
   "metadata": {},
   "outputs": [
    {
     "name": "stdout",
     "output_type": "stream",
     "text": [
      "<class 'pandas.core.frame.DataFrame'>\n",
      "RangeIndex: 840 entries, 0 to 839\n",
      "Data columns (total 9 columns):\n",
      " #   Column        Non-Null Count  Dtype   \n",
      "---  ------        --------------  -----   \n",
      " 0   Año           840 non-null    category\n",
      " 1   Trimestre     840 non-null    category\n",
      " 2   Provincia     840 non-null    category\n",
      " 3   ADSL          840 non-null    int64   \n",
      " 4   Cablemodem    840 non-null    int64   \n",
      " 5   Fibra óptica  840 non-null    int64   \n",
      " 6   Wireless      840 non-null    int64   \n",
      " 7   Otros         840 non-null    int64   \n",
      " 8   Total         840 non-null    int64   \n",
      "dtypes: category(3), int64(6)\n",
      "memory usage: 43.3 KB\n"
     ]
    }
   ],
   "source": [
    "df.info()"
   ]
  },
  {
   "cell_type": "code",
   "execution_count": 45,
   "metadata": {},
   "outputs": [
    {
     "data": {
      "text/html": [
       "<div>\n",
       "<style scoped>\n",
       "    .dataframe tbody tr th:only-of-type {\n",
       "        vertical-align: middle;\n",
       "    }\n",
       "\n",
       "    .dataframe tbody tr th {\n",
       "        vertical-align: top;\n",
       "    }\n",
       "\n",
       "    .dataframe thead th {\n",
       "        text-align: right;\n",
       "    }\n",
       "</style>\n",
       "<table border=\"1\" class=\"dataframe\">\n",
       "  <thead>\n",
       "    <tr style=\"text-align: right;\">\n",
       "      <th></th>\n",
       "      <th>ADSL</th>\n",
       "      <th>Cablemodem</th>\n",
       "      <th>Fibra óptica</th>\n",
       "      <th>Wireless</th>\n",
       "      <th>Otros</th>\n",
       "      <th>Total</th>\n",
       "    </tr>\n",
       "  </thead>\n",
       "  <tbody>\n",
       "    <tr>\n",
       "      <th>count</th>\n",
       "      <td>8.400000e+02</td>\n",
       "      <td>8.400000e+02</td>\n",
       "      <td>8.400000e+02</td>\n",
       "      <td>840.000000</td>\n",
       "      <td>840.000000</td>\n",
       "      <td>8.400000e+02</td>\n",
       "    </tr>\n",
       "    <tr>\n",
       "      <th>mean</th>\n",
       "      <td>1.275668e+05</td>\n",
       "      <td>1.717750e+05</td>\n",
       "      <td>2.991186e+04</td>\n",
       "      <td>10345.001190</td>\n",
       "      <td>6142.961905</td>\n",
       "      <td>3.457417e+05</td>\n",
       "    </tr>\n",
       "    <tr>\n",
       "      <th>std</th>\n",
       "      <td>2.550543e+05</td>\n",
       "      <td>4.221661e+05</td>\n",
       "      <td>1.235013e+05</td>\n",
       "      <td>18192.024086</td>\n",
       "      <td>10572.152928</td>\n",
       "      <td>7.419436e+05</td>\n",
       "    </tr>\n",
       "    <tr>\n",
       "      <th>min</th>\n",
       "      <td>6.842000e+03</td>\n",
       "      <td>0.000000e+00</td>\n",
       "      <td>0.000000e+00</td>\n",
       "      <td>0.000000</td>\n",
       "      <td>2.000000</td>\n",
       "      <td>1.255700e+04</td>\n",
       "    </tr>\n",
       "    <tr>\n",
       "      <th>25%</th>\n",
       "      <td>2.247925e+04</td>\n",
       "      <td>8.599750e+03</td>\n",
       "      <td>1.860000e+02</td>\n",
       "      <td>253.000000</td>\n",
       "      <td>307.250000</td>\n",
       "      <td>5.202975e+04</td>\n",
       "    </tr>\n",
       "    <tr>\n",
       "      <th>50%</th>\n",
       "      <td>4.859600e+04</td>\n",
       "      <td>3.498400e+04</td>\n",
       "      <td>1.093000e+03</td>\n",
       "      <td>4261.500000</td>\n",
       "      <td>1852.000000</td>\n",
       "      <td>1.034895e+05</td>\n",
       "    </tr>\n",
       "    <tr>\n",
       "      <th>75%</th>\n",
       "      <td>1.045695e+05</td>\n",
       "      <td>7.074850e+04</td>\n",
       "      <td>1.386250e+04</td>\n",
       "      <td>12435.000000</td>\n",
       "      <td>6915.500000</td>\n",
       "      <td>1.779148e+05</td>\n",
       "    </tr>\n",
       "    <tr>\n",
       "      <th>max</th>\n",
       "      <td>1.586343e+06</td>\n",
       "      <td>2.748325e+06</td>\n",
       "      <td>1.436433e+06</td>\n",
       "      <td>126887.000000</td>\n",
       "      <td>73415.000000</td>\n",
       "      <td>4.721668e+06</td>\n",
       "    </tr>\n",
       "  </tbody>\n",
       "</table>\n",
       "</div>"
      ],
      "text/plain": [
       "               ADSL    Cablemodem  Fibra óptica       Wireless         Otros  \\\n",
       "count  8.400000e+02  8.400000e+02  8.400000e+02     840.000000    840.000000   \n",
       "mean   1.275668e+05  1.717750e+05  2.991186e+04   10345.001190   6142.961905   \n",
       "std    2.550543e+05  4.221661e+05  1.235013e+05   18192.024086  10572.152928   \n",
       "min    6.842000e+03  0.000000e+00  0.000000e+00       0.000000      2.000000   \n",
       "25%    2.247925e+04  8.599750e+03  1.860000e+02     253.000000    307.250000   \n",
       "50%    4.859600e+04  3.498400e+04  1.093000e+03    4261.500000   1852.000000   \n",
       "75%    1.045695e+05  7.074850e+04  1.386250e+04   12435.000000   6915.500000   \n",
       "max    1.586343e+06  2.748325e+06  1.436433e+06  126887.000000  73415.000000   \n",
       "\n",
       "              Total  \n",
       "count  8.400000e+02  \n",
       "mean   3.457417e+05  \n",
       "std    7.419436e+05  \n",
       "min    1.255700e+04  \n",
       "25%    5.202975e+04  \n",
       "50%    1.034895e+05  \n",
       "75%    1.779148e+05  \n",
       "max    4.721668e+06  "
      ]
     },
     "execution_count": 45,
     "metadata": {},
     "output_type": "execute_result"
    }
   ],
   "source": [
    "df.describe()"
   ]
  },
  {
   "cell_type": "markdown",
   "metadata": {},
   "source": [
    "Se puede observar que hay valores cero, primer supuesto analizado es que posiblemente en algunas provincias no hay acceso por cable modem, por fibra óptica ni wireless. O que esos datos se corresponden a años en donde no se utilizaban esas tecnologías, o no llegaban a algunas provincias."
   ]
  },
  {
   "cell_type": "code",
   "execution_count": 46,
   "metadata": {},
   "outputs": [
    {
     "data": {
      "text/plain": [
       "Año             0\n",
       "Trimestre       0\n",
       "Provincia       0\n",
       "ADSL            0\n",
       "Cablemodem      0\n",
       "Fibra óptica    0\n",
       "Wireless        0\n",
       "Otros           0\n",
       "Total           0\n",
       "dtype: int64"
      ]
     },
     "execution_count": 46,
     "metadata": {},
     "output_type": "execute_result"
    }
   ],
   "source": [
    "df.isnull().sum()\n",
    "# Con esto se verifica que no existen nulos"
   ]
  },
  {
   "cell_type": "markdown",
   "metadata": {},
   "source": [
    "### 2. Outliers<a name=\"id2\"></a>\n",
    "Detección de valores atípicos."
   ]
  },
  {
   "cell_type": "code",
   "execution_count": 33,
   "metadata": {},
   "outputs": [
    {
     "data": {
      "image/png": "[encoded data removed]",
      "text/plain": [
       "<Figure size 640x480 with 1 Axes>"
      ]
     },
     "metadata": {},
     "output_type": "display_data"
    }
   ],
   "source": [
    "# Se averigua datos outliers, se crea boxplot para las columnas de interés\n",
    "columnas = ['ADSL', 'Cablemodem', 'Fibra óptica', 'Wireless', 'Otros']\n",
    "\n",
    "df[columnas].boxplot()\n",
    "\n",
    "plt.xlabel('Categorías')\n",
    "plt.ylabel('Valores')\n",
    "plt.title('Boxplot de las categorías')\n",
    "\n",
    "plt.show()"
   ]
  },
  {
   "cell_type": "markdown",
   "metadata": {},
   "source": [
    "Con el gráfico de cajas, se puede observar valores atipicos en todos las tecnologías de acceso a internet. Se averigua cúales son esos registros mediante el **método de de Tukey's fences**, sin eliminarnos."
   ]
  },
  {
   "cell_type": "code",
   "execution_count": 65,
   "metadata": {},
   "outputs": [
    {
     "name": "stdout",
     "output_type": "stream",
     "text": [
      "limite_inferior -100656.125  y limite_superior 227704.875\n",
      "      Año Trimestre        Provincia     ADSL  Cablemodem  Fibra óptica  \\\n",
      "0    2022         3     Buenos Aires   339648     2748325       1436433   \n",
      "24   2022         2     Buenos Aires   350652     2719613       1399043   \n",
      "48   2022         1     Buenos Aires   392045     2728865       1242121   \n",
      "72   2021         4     Buenos Aires   426325     2706506       1176024   \n",
      "92   2021         4         Santa Fe   233427      444373        128856   \n",
      "..    ...       ...              ...      ...         ...           ...   \n",
      "812  2014         2         Santa Fe   324101      178495          3085   \n",
      "816  2014         1     Buenos Aires  1567685     1000879        120960   \n",
      "817  2014         1  Capital Federal   445569      820161         17767   \n",
      "821  2014         1          Córdoba   336841      225769           347   \n",
      "836  2014         1         Santa Fe   322662      174296          3059   \n",
      "\n",
      "     Wireless  Otros    Total  \n",
      "0      126846  70416  4721668  \n",
      "24     126847  71028  4667183  \n",
      "48     125521  66872  4555424  \n",
      "72     126887  73415  4509157  \n",
      "92      43556  16229   866441  \n",
      "..        ...    ...      ...  \n",
      "812      6041    636   512358  \n",
      "816     16528  33824  2739876  \n",
      "817      1866  14555  1299918  \n",
      "821      3585    368   566910  \n",
      "836      5951    644   506612  \n",
      "\n",
      "[121 rows x 9 columns]\n"
     ]
    }
   ],
   "source": [
    "# Outliers de tecnología de acceso por ADSL \n",
    "\n",
    "Q1 = df['ADSL'].quantile(0.25)\n",
    "Q3 = df['ADSL'].quantile(0.75)\n",
    "IQR = Q3 - Q1\n",
    "limite_inferior = Q1 - 1.5 * IQR\n",
    "limite_superior = Q3 + 1.5 * IQR\n",
    "\n",
    "# Filtrar los registros que contienen outliers en la columna 'ADSL'\n",
    "outliers = df.loc[(df['ADSL'] < limite_inferior) | (df['ADSL'] > limite_superior)]\n",
    "print('limite_inferior', limite_inferior , ' y limite_superior', limite_superior)\n",
    "print(outliers)"
   ]
  },
  {
   "cell_type": "code",
   "execution_count": 66,
   "metadata": {},
   "outputs": [
    {
     "name": "stdout",
     "output_type": "stream",
     "text": [
      "limite_inferior -84623.375  y limite_superior 163971.625\n",
      "      Año Trimestre        Provincia     ADSL  Cablemodem  Fibra óptica  \\\n",
      "0    2022         3     Buenos Aires   339648     2748325       1436433   \n",
      "1    2022         3  Capital Federal   140791     1240125        129218   \n",
      "5    2022         3          Córdoba   163770      465461        338570   \n",
      "20   2022         3         Santa Fe   183740      426255        215189   \n",
      "24   2022         2     Buenos Aires   350652     2719613       1399043   \n",
      "..    ...       ...              ...      ...         ...           ...   \n",
      "812  2014         2         Santa Fe   324101      178495          3085   \n",
      "816  2014         1     Buenos Aires  1567685     1000879        120960   \n",
      "817  2014         1  Capital Federal   445569      820161         17767   \n",
      "821  2014         1          Córdoba   336841      225769           347   \n",
      "836  2014         1         Santa Fe   322662      174296          3059   \n",
      "\n",
      "     Wireless  Otros    Total  \n",
      "0      126846  70416  4721668  \n",
      "1        5758  31787  1547679  \n",
      "5       61070   9797  1038668  \n",
      "20      43079  19547   887810  \n",
      "24     126847  71028  4667183  \n",
      "..        ...    ...      ...  \n",
      "812      6041    636   512358  \n",
      "816     16528  33824  2739876  \n",
      "817      1866  14555  1299918  \n",
      "821      3585    368   566910  \n",
      "836      5951    644   506612  \n",
      "\n",
      "[140 rows x 9 columns]\n"
     ]
    }
   ],
   "source": [
    "# Outliers de tecnología de acceso por Cablemodem \n",
    "\n",
    "Q1 = df['Cablemodem'].quantile(0.25)\n",
    "Q3 = df['Cablemodem'].quantile(0.75)\n",
    "IQR = Q3 - Q1\n",
    "limite_inferior = Q1 - 1.5 * IQR\n",
    "limite_superior = Q3 + 1.5 * IQR\n",
    "\n",
    "# Filtrar los registros que contienen outliers en la columna 'Cablemodem'\n",
    "outliers = df.loc[(df['Cablemodem'] < limite_inferior) | (df['Cablemodem'] > limite_superior)]\n",
    "print('limite_inferior', limite_inferior , ' y limite_superior', limite_superior)\n",
    "print(outliers)"
   ]
  },
  {
   "cell_type": "code",
   "execution_count": 67,
   "metadata": {},
   "outputs": [
    {
     "name": "stdout",
     "output_type": "stream",
     "text": [
      "limite_inferior -20328.75  y limite_superior 34377.25\n",
      "      Año Trimestre        Provincia     ADSL  Cablemodem  Fibra óptica  \\\n",
      "0    2022         3     Buenos Aires   339648     2748325       1436433   \n",
      "1    2022         3  Capital Federal   140791     1240125        129218   \n",
      "2    2022         3        Catamarca    10010       10495         46224   \n",
      "3    2022         3            Chaco    27164       61800         44645   \n",
      "5    2022         3          Córdoba   163770      465461        338570   \n",
      "..    ...       ...              ...      ...         ...           ...   \n",
      "720  2015         1     Buenos Aires  1583135     1096836        134177   \n",
      "744  2014         4     Buenos Aires  1575978     1070135        120528   \n",
      "768  2014         3     Buenos Aires  1562533     1110628        124474   \n",
      "792  2014         2     Buenos Aires  1568881     1025490        120008   \n",
      "816  2014         1     Buenos Aires  1567685     1000879        120960   \n",
      "\n",
      "     Wireless  Otros    Total  \n",
      "0      126846  70416  4721668  \n",
      "1        5758  31787  1547679  \n",
      "2        1329   2235    70293  \n",
      "3        8178   2359   144146  \n",
      "5       61070   9797  1038668  \n",
      "..        ...    ...      ...  \n",
      "720     18754  28940  2861842  \n",
      "744     17728  32038  2816407  \n",
      "768     20049  31881  2849565  \n",
      "792     17020  33147  2764546  \n",
      "816     16528  33824  2739876  \n",
      "\n",
      "[119 rows x 9 columns]\n"
     ]
    }
   ],
   "source": [
    "# Outliers de tecnología de acceso por Fibra óptica \n",
    "\n",
    "Q1 = df['Fibra óptica'].quantile(0.25)\n",
    "Q3 = df['Fibra óptica'].quantile(0.75)\n",
    "IQR = Q3 - Q1\n",
    "limite_inferior = Q1 - 1.5 * IQR\n",
    "limite_superior = Q3 + 1.5 * IQR\n",
    "\n",
    "# Filtrar los registros que contienen outliers en la columna 'Fibra óptica'\n",
    "outliers = df.loc[(df['Fibra óptica'] < limite_inferior) | (df['Fibra óptica'] > limite_superior)]\n",
    "print('limite_inferior', limite_inferior , ' y limite_superior', limite_superior)\n",
    "print(outliers)"
   ]
  },
  {
   "cell_type": "code",
   "execution_count": 68,
   "metadata": {},
   "outputs": [
    {
     "name": "stdout",
     "output_type": "stream",
     "text": [
      "limite_inferior -18020.0  y limite_superior 30708.0\n",
      "      Año Trimestre     Provincia     ADSL  Cablemodem  Fibra óptica  \\\n",
      "0    2022         3  Buenos Aires   339648     2748325       1436433   \n",
      "5    2022         3       Córdoba   163770      465461        338570   \n",
      "18   2022         3      San Luis     6860       29363           248   \n",
      "20   2022         3      Santa Fe   183740      426255        215189   \n",
      "24   2022         2  Buenos Aires   350652     2719613       1399043   \n",
      "..    ...       ...           ...      ...         ...           ...   \n",
      "402  2018         3      San Luis    11096        7784           368   \n",
      "408  2018         2  Buenos Aires  1450203     1807868        143626   \n",
      "432  2018         1  Buenos Aires  1452061     1793884        133928   \n",
      "456  2017         4  Buenos Aires  1241172     1718013        131181   \n",
      "480  2017         3  Buenos Aires  1288025     1571180        124920   \n",
      "\n",
      "     Wireless  Otros    Total  \n",
      "0      126846  70416  4721668  \n",
      "5       61070   9797  1038668  \n",
      "18      70614  14985   122070  \n",
      "20      43079  19547   887810  \n",
      "24     126847  71028  4667183  \n",
      "..        ...    ...      ...  \n",
      "402     52859   2314    74421  \n",
      "408     71256  27746  3500699  \n",
      "432     64379  31194  3475446  \n",
      "456     60082  31448  3181896  \n",
      "480     35058  38777  3057960  \n",
      "\n",
      "[61 rows x 9 columns]\n"
     ]
    }
   ],
   "source": [
    "# Outliers de tecnología de acceso por Wireless \n",
    "\n",
    "Q1 = df['Wireless'].quantile(0.25)\n",
    "Q3 = df['Wireless'].quantile(0.75)\n",
    "IQR = Q3 - Q1\n",
    "limite_inferior = Q1 - 1.5 * IQR\n",
    "limite_superior = Q3 + 1.5 * IQR\n",
    "\n",
    "# Filtrar los registros que contienen outliers en la columna 'Wireless'\n",
    "outliers = df.loc[(df['Wireless'] < limite_inferior) | (df['Wireless'] > limite_superior)]\n",
    "print('limite_inferior', limite_inferior , ' y limite_superior', limite_superior)\n",
    "print(outliers)"
   ]
  },
  {
   "cell_type": "code",
   "execution_count": 69,
   "metadata": {},
   "outputs": [
    {
     "name": "stdout",
     "output_type": "stream",
     "text": [
      "limite_inferior -9605.125  y limite_superior 16827.875\n",
      "      Año Trimestre        Provincia     ADSL  Cablemodem  Fibra óptica  \\\n",
      "0    2022         3     Buenos Aires   339648     2748325       1436433   \n",
      "1    2022         3  Capital Federal   140791     1240125        129218   \n",
      "15   2022         3        Río Negro    35552       48260         41017   \n",
      "20   2022         3         Santa Fe   183740      426255        215189   \n",
      "24   2022         2     Buenos Aires   350652     2719613       1399043   \n",
      "..    ...       ...              ...      ...         ...           ...   \n",
      "720  2015         1     Buenos Aires  1583135     1096836        134177   \n",
      "744  2014         4     Buenos Aires  1575978     1070135        120528   \n",
      "768  2014         3     Buenos Aires  1562533     1110628        124474   \n",
      "792  2014         2     Buenos Aires  1568881     1025490        120008   \n",
      "816  2014         1     Buenos Aires  1567685     1000879        120960   \n",
      "\n",
      "     Wireless  Otros    Total  \n",
      "0      126846  70416  4721668  \n",
      "1        5758  31787  1547679  \n",
      "15      16760  18969   160558  \n",
      "20      43079  19547   887810  \n",
      "24     126847  71028  4667183  \n",
      "..        ...    ...      ...  \n",
      "720     18754  28940  2861842  \n",
      "744     17728  32038  2816407  \n",
      "768     20049  31881  2849565  \n",
      "792     17020  33147  2764546  \n",
      "816     16528  33824  2739876  \n",
      "\n",
      "[106 rows x 9 columns]\n"
     ]
    }
   ],
   "source": [
    "# Outliers de tecnología de acceso por Otras tecnologias \n",
    "\n",
    "Q1 = df['Otros'].quantile(0.25)\n",
    "Q3 = df['Otros'].quantile(0.75)\n",
    "IQR = Q3 - Q1\n",
    "limite_inferior = Q1 - 1.5 * IQR\n",
    "limite_superior = Q3 + 1.5 * IQR\n",
    "\n",
    "# Filtrar los registros que contienen outliers en la columna 'Otros'\n",
    "outliers = df.loc[(df['Otros'] < limite_inferior) | (df['Otros'] > limite_superior)]\n",
    "print('limite_inferior', limite_inferior , ' y limite_superior', limite_superior)\n",
    "print(outliers)"
   ]
  },
  {
   "cell_type": "markdown",
   "metadata": {},
   "source": [
    "Se identificaron 121 registros para ADSL, 140 para Cablemodem, 119 para Fibra óptica, 61 para Wireless y 106 para otras tecnologías de accesos. No son eliminados pues no se consideran datos erróneos."
   ]
  },
  {
   "cell_type": "markdown",
   "metadata": {},
   "source": [
    "### 3. Análisis y visualización de los datos <a name=\"id3\"></a>"
   ]
  },
  {
   "cell_type": "markdown",
   "metadata": {},
   "source": [
    "**Analizar** la provincia que más consume el servicio de internet."
   ]
  },
  {
   "cell_type": "code",
   "execution_count": 61,
   "metadata": {},
   "outputs": [
    {
     "name": "stdout",
     "output_type": "stream",
     "text": [
      "Provincia con mayor consumo de servicio de internet:\n",
      "Buenos Aires\n"
     ]
    }
   ],
   "source": [
    "# Se agrupa por año, provincia y calcular el total\n",
    "df_grouped = df.groupby(['Año', 'Provincia'])['Total'].sum().reset_index()\n",
    "\n",
    "# se obtiene la provincia con el mayor valor de total\n",
    "provincia_mas_consumo = df_grouped.loc[df_grouped['Total'].idxmax(), 'Provincia']\n",
    "\n",
    "# se imprime la provincia con el mayor consumo\n",
    "print(\"Provincia con mayor consumo de servicio de internet:\")\n",
    "print(provincia_mas_consumo)\n"
   ]
  },
  {
   "cell_type": "markdown",
   "metadata": {},
   "source": [
    "La provincia de Buenos Aires es la que concentra la mayor demanda de servicio de acceso a internet. \n",
    "\n",
    "**Determinar** por provincia, cúal es el acceso mayor y el menor servicio de acceso a internet contratado. Asimismo también cuales no."
   ]
  },
  {
   "cell_type": "code",
   "execution_count": 18,
   "metadata": {},
   "outputs": [
    {
     "name": "stdout",
     "output_type": "stream",
     "text": [
      "Dataset agrupado por año y provincia:\n",
      "      Año            Provincia     ADSL  Cablemodem  Fibra óptica  Wireless  \\\n",
      "0    2014         Buenos Aires  6275077     4207132        485970     71325   \n",
      "1    2014      Capital Federal  1799146     3322198         70537      7706   \n",
      "2    2014            Catamarca    98078         774            65         0   \n",
      "3    2014                Chaco   214637       40621           120         1   \n",
      "4    2014               Chubut   199894        2553          3505     45845   \n",
      "..    ...                  ...      ...         ...           ...       ...   \n",
      "211  2022           Santa Cruz    30877       71192         32396     11766   \n",
      "212  2022             Santa Fe   595718     1299097        551244    131421   \n",
      "213  2022  Santiago Del Estero    50064      249254         25868     19585   \n",
      "214  2022     Tierra Del Fuego    38539      118500          1222       374   \n",
      "215  2022              Tucumán   256163       96241        397342     11989   \n",
      "\n",
      "      Otros     Total   Maximo  Minimo tecnologia_preponderante  \\\n",
      "0    130890  11170394  6275077   71325                     ADSL   \n",
      "1     58891   5258478  3322198    7706               Cablemodem   \n",
      "2       177     99094    98078       0                     ADSL   \n",
      "3       237    255616   214637       1                     ADSL   \n",
      "4     26622    278419   199894    2553                     ADSL   \n",
      "..      ...       ...      ...     ...                      ...   \n",
      "211    1566    147797    71192   11766               Cablemodem   \n",
      "212   59668   2637148  1299097  131421               Cablemodem   \n",
      "213    8766    353537   249254   19585               Cablemodem   \n",
      "214    1642    160277   118500     374               Cablemodem   \n",
      "215    1493    763228   397342   11989             Fibra óptica   \n",
      "\n",
      "    tecnologia_minoritaria  \n",
      "0                 Wireless  \n",
      "1                 Wireless  \n",
      "2                 Wireless  \n",
      "3                 Wireless  \n",
      "4               Cablemodem  \n",
      "..                     ...  \n",
      "211               Wireless  \n",
      "212               Wireless  \n",
      "213               Wireless  \n",
      "214               Wireless  \n",
      "215               Wireless  \n",
      "\n",
      "[216 rows x 12 columns]\n"
     ]
    }
   ],
   "source": [
    "# Se obtiene la tecnología más utilizada por año y provincia\n",
    "# se agrupa por año y provincia y sumar las columnas numéricas\n",
    "df_grouped = df.drop('Trimestre', axis=1)\n",
    "df_grouped = df_grouped.groupby(['Año', 'Provincia']).sum()\n",
    "\n",
    "print(\"Dataset agrupado por año y provincia:\")\n",
    "\n",
    "# se resetea el índice para agregar las columnas \"Año\" y \"Provincia\"\n",
    "df_grouped = df_grouped.reset_index()\n",
    "\n",
    "df_grouped['Maximo'] = df_grouped[['ADSL', 'Cablemodem', 'Fibra óptica', 'Wireless']].max(axis=1)\n",
    "df_grouped['Minimo'] = df_grouped[['ADSL', 'Cablemodem', 'Fibra óptica', 'Wireless']].min(axis=1)\n",
    "\n",
    "# se toma el nombre de la columna con el valor máximo y mínimo en cada registro\n",
    "columnas = ['ADSL', 'Cablemodem', 'Fibra óptica', 'Wireless']\n",
    "df_grouped['tecnologia_preponderante']  = df_grouped[columnas].idxmax(axis=1)\n",
    "df_grouped['tecnologia_minoritaria']    = df_grouped[columnas].idxmin(axis=1)\n",
    "\n",
    "print(df_grouped)"
   ]
  },
  {
   "cell_type": "markdown",
   "metadata": {},
   "source": [
    "Con este dataframe derivado, tenemos por año y provincia las tecnologías más usadas y las que no, o no existen con el valor cero.\n",
    "Por ejemplo en el último año (2022) la tecnologia más usada por provincia es, se ve acontinuación:"
   ]
  },
  {
   "cell_type": "code",
   "execution_count": 19,
   "metadata": {},
   "outputs": [
    {
     "name": "stdout",
     "output_type": "stream",
     "text": [
      "               Provincia tecnologia_preponderante\n",
      "192         Buenos Aires               Cablemodem\n",
      "193      Capital Federal               Cablemodem\n",
      "194            Catamarca             Fibra óptica\n",
      "195                Chaco               Cablemodem\n",
      "196               Chubut               Cablemodem\n",
      "197           Corrientes               Cablemodem\n",
      "198              Córdoba               Cablemodem\n",
      "199           Entre Ríos               Cablemodem\n",
      "200              Formosa               Cablemodem\n",
      "201                Jujuy               Cablemodem\n",
      "202             La Pampa               Cablemodem\n",
      "203             La Rioja               Cablemodem\n",
      "204              Mendoza             Fibra óptica\n",
      "205             Misiones               Cablemodem\n",
      "206              Neuquén               Cablemodem\n",
      "207            Río Negro               Cablemodem\n",
      "208                Salta               Cablemodem\n",
      "209             San Juan                     ADSL\n",
      "210             San Luis                 Wireless\n",
      "211           Santa Cruz               Cablemodem\n",
      "212             Santa Fe               Cablemodem\n",
      "213  Santiago Del Estero               Cablemodem\n",
      "214     Tierra Del Fuego               Cablemodem\n",
      "215              Tucumán             Fibra óptica\n"
     ]
    }
   ],
   "source": [
    "filtered_df = df_grouped[df_grouped['Año'] == '2022'][['Provincia', 'tecnologia_preponderante']]\n",
    "print(filtered_df)"
   ]
  },
  {
   "cell_type": "code",
   "execution_count": 20,
   "metadata": {},
   "outputs": [
    {
     "data": {
      "image/png": "[encoded data removed]",
      "text/plain": [
       "<Figure size 640x480 with 1 Axes>"
      ]
     },
     "metadata": {},
     "output_type": "display_data"
    }
   ],
   "source": [
    "## Se obtiene las tecnologías únicas y contar su frecuencia\n",
    "tecnologias = filtered_df['tecnologia_preponderante'].unique()\n",
    "frecuencias = filtered_df['tecnologia_preponderante'].value_counts()\n",
    "\n",
    "# se configura el gráfico de torta\n",
    "fig, ax = plt.subplots()\n",
    "ax.pie(frecuencias, labels=tecnologias, autopct='%1.1f%%')\n",
    "\n",
    "ax.set_title('Distribución de Tecnología Preponderante por Provincia (2022)')\n",
    "\n",
    "plt.show()"
   ]
  },
  {
   "cell_type": "markdown",
   "metadata": {},
   "source": [
    "Se puede deducir que para el año 2022, las tecnologías más demandas son por cable modem con un 79.2% y fibra óptica con un 12.5 %.\n",
    "\n",
    "Identificar que tecnologías no son usadas por provincia y año."
   ]
  },
  {
   "cell_type": "code",
   "execution_count": 28,
   "metadata": {},
   "outputs": [
    {
     "data": {
      "text/html": [
       "<div>\n",
       "<style scoped>\n",
       "    .dataframe tbody tr th:only-of-type {\n",
       "        vertical-align: middle;\n",
       "    }\n",
       "\n",
       "    .dataframe tbody tr th {\n",
       "        vertical-align: top;\n",
       "    }\n",
       "\n",
       "    .dataframe thead th {\n",
       "        text-align: right;\n",
       "    }\n",
       "</style>\n",
       "<table border=\"1\" class=\"dataframe\">\n",
       "  <thead>\n",
       "    <tr style=\"text-align: right;\">\n",
       "      <th></th>\n",
       "      <th>Año</th>\n",
       "      <th>Provincia</th>\n",
       "      <th>tecnologia_preponderante</th>\n",
       "    </tr>\n",
       "  </thead>\n",
       "  <tbody>\n",
       "    <tr>\n",
       "      <th>2</th>\n",
       "      <td>2014</td>\n",
       "      <td>Catamarca</td>\n",
       "      <td>ADSL</td>\n",
       "    </tr>\n",
       "    <tr>\n",
       "      <th>8</th>\n",
       "      <td>2014</td>\n",
       "      <td>Formosa</td>\n",
       "      <td>ADSL</td>\n",
       "    </tr>\n",
       "    <tr>\n",
       "      <th>11</th>\n",
       "      <td>2014</td>\n",
       "      <td>La Rioja</td>\n",
       "      <td>ADSL</td>\n",
       "    </tr>\n",
       "    <tr>\n",
       "      <th>33</th>\n",
       "      <td>2015</td>\n",
       "      <td>Jujuy</td>\n",
       "      <td>ADSL</td>\n",
       "    </tr>\n",
       "    <tr>\n",
       "      <th>35</th>\n",
       "      <td>2015</td>\n",
       "      <td>La Rioja</td>\n",
       "      <td>ADSL</td>\n",
       "    </tr>\n",
       "    <tr>\n",
       "      <th>57</th>\n",
       "      <td>2016</td>\n",
       "      <td>Jujuy</td>\n",
       "      <td>ADSL</td>\n",
       "    </tr>\n",
       "    <tr>\n",
       "      <th>59</th>\n",
       "      <td>2016</td>\n",
       "      <td>La Rioja</td>\n",
       "      <td>ADSL</td>\n",
       "    </tr>\n",
       "    <tr>\n",
       "      <th>142</th>\n",
       "      <td>2019</td>\n",
       "      <td>Tierra Del Fuego</td>\n",
       "      <td>Cablemodem</td>\n",
       "    </tr>\n",
       "    <tr>\n",
       "      <th>166</th>\n",
       "      <td>2020</td>\n",
       "      <td>Tierra Del Fuego</td>\n",
       "      <td>Cablemodem</td>\n",
       "    </tr>\n",
       "  </tbody>\n",
       "</table>\n",
       "</div>"
      ],
      "text/plain": [
       "      Año         Provincia tecnologia_preponderante\n",
       "2    2014         Catamarca                     ADSL\n",
       "8    2014           Formosa                     ADSL\n",
       "11   2014          La Rioja                     ADSL\n",
       "33   2015             Jujuy                     ADSL\n",
       "35   2015          La Rioja                     ADSL\n",
       "57   2016             Jujuy                     ADSL\n",
       "59   2016          La Rioja                     ADSL\n",
       "142  2019  Tierra Del Fuego               Cablemodem\n",
       "166  2020  Tierra Del Fuego               Cablemodem"
      ]
     },
     "execution_count": 28,
     "metadata": {},
     "output_type": "execute_result"
    }
   ],
   "source": [
    "df_grouped[df_grouped['Minimo']  == 0 ][['Año','Provincia', 'tecnologia_preponderante']]\n"
   ]
  },
  {
   "cell_type": "markdown",
   "metadata": {},
   "source": [
    "Se observa que en los últimos años se utilizan en todas las provincias el servicio de internet en sus distintas modalidades, dado que el último registro de provincia sin acceso a internet fue Tierra del Fuego en el año 2020, con la modalidad de cable modem."
   ]
  },
  {
   "attachments": {},
   "cell_type": "markdown",
   "metadata": {},
   "source": [
    "### 4. Conclusión <a name=\"id4\"></a>\n",
    "Actualmente todas las provincias demandan los servicios de acceso a internet, contratando la modalidad por cable modem y fibra óptica en su mayoria. La provincia de Buenos Aires concentra la mayor demanda."
   ]
  }
 ],
 "metadata": {
  "kernelspec": {
   "display_name": "desarrollo-env",
   "language": "python",
   "name": "python3"
  },
  "language_info": {
   "codemirror_mode": {
    "name": "ipython",
    "version": 3
   },
   "file_extension": ".py",
   "mimetype": "text/x-python",
   "name": "python",
   "nbconvert_exporter": "python",
   "pygments_lexer": "ipython3",
   "version": "3.9.0"
  },
  "orig_nbformat": 4
 },
 "nbformat": 4,
 "nbformat_minor": 2
}
